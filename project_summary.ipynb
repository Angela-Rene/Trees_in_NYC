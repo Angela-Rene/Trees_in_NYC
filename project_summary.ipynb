{
 "cells": [
  {
   "cell_type": "markdown",
   "id": "c9943671",
   "metadata": {},
   "source": [
    "# Trees in NYC - Project Summary\n",
    "## Branching Towards Sustainability: Does NYC's Urban Forest Support a Healthier City?\n",
    "#### Introduction\n",
    "\n",
    "This study explores the relationship between urban tree coverage and air quality in New York City.  Using publically available datasets, I investigate the question: Do areas with more or larger trees tend to have better air quaility?\n",
    "Trees are widely believed to provide environmental benefits, and this study suggests there is a correlation.  However, quantifying the impact of trees is complex, as there are many variables that can also influence air quality.\n",
    "\n",
    "---\n",
    "\n",
    "#### Key Findings\n",
    "+ **Tree coverage varies substantially across Community Districts.**\n",
    "Total trees per district range from 2,016 to 51,842.\n",
    "+ **Higher tree density often aligns with improved air quality.**\n",
    "Several Community Districts with higher tree count showed relatively lower levels of pollution, suggesting a potential relationship between tree coverage and cleaner air.\n",
    "+ [Click <ins>Here</ins> to View Dashboard on Tableau Public for visual representations](https://public.tableau.com/views/Trees_in_NYC_smaller/Dashboard_smaller?:language=en-US&publish=yes&:sid=&:redirect=auth&:display_count=n&:origin=viz_share_link)\n",
    "+ **Trees are one of multiple factors in air quality.**\n",
    "Though Districts with more trees often showed better air quality, the relationship is not definitive.  Other possible influential factors include:\n",
    "Population density and housing patterns, traffic volume and roadway density, industrial zones with higher pollution output, energy use and types.\n",
    "\n",
    "---\n",
    "\n",
    "#### Data Inconsistencies, Limitaions, or Issues\n",
    "+ **Few data inconsistencies.**  \n",
    "The available data provided a large consistent dataset for analysis.\n",
    "+ **Tree data does not include canopy size.**\n",
    "Tree counts alone may not fully reflect environmental impact. Factors such as canopy size also affect a tree’s ability to filter air, but this information was not available in the dataset.\n",
    "+ **Community District Boundaries may not align with environmental patterns.**\n",
    "Boundaries used for community districts may not match the geographic spread of pollution or tree distribution, which could blur important patterns in the analysis.\n",
    "\n",
    "---\n",
    "#### Next Steps\n",
    "+ **Incorporate additional data.**\n",
    "Finding data on other factors that affect air quality- such as population density, building emissions, industrial sites, or energy consumption- to create more comprehensive comparisons/analysis.\n",
    "+ **Add tree species data.**\n",
    "Finding which types of trees are most effective at filtering air and reducing pollution.\n",
    "+ **Make the Dashboard interactive.**\n",
    "Find a way to let users explore data by community district in the Tableau dashboard.\n",
    "\n",
    "---\n",
    "\n",
    "#### Conclusion\n",
    "Urban trees contribute positively to air quality in NYC, yet they are just one part of a bigger picture. Things like population density, traffic volume, industrial zones/pollution output, and energy usage also play a role. To better understand how trees affect public health, more detailed data is needed on those other factors as well.\n",
    "\n",
    "---\n",
    "\n",
    "#### Data Sources:\n",
    "https://www.kaggle.com/datasets/kaggleprollc/air-quality-data-nyc\\\n",
    "https://www.kaggle.com/datasets/nycparks/tree-census\\\n",
    "\n",
    "\n",
    "\n"
   ]
  }
 ],
 "metadata": {
  "kernelspec": {
   "display_name": "venv",
   "language": "python",
   "name": "python3"
  },
  "language_info": {
   "name": "python",
   "version": "3.13.1"
  }
 },
 "nbformat": 4,
 "nbformat_minor": 5
}
