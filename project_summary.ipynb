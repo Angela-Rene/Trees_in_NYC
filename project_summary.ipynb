{
 "cells": [
  {
   "cell_type": "markdown",
   "id": "c9943671",
   "metadata": {},
   "source": [
    "# Project Summary\n",
    "\n",
    "### (Introduction)\n",
    "\n",
    "This study explores the relationship between urban tree coverage and air quality in New York City.  Using publically available datasets, I investigate the question: Do areas with more or larger trees tend to have better air quaility?\n",
    "\n",
    "Trees are widely believed to provide environmental benefits, and this study suggests there is a correlation.  However, quantifying the impact of trees is complex, as there are many variables, including population density and pollution sources, that can also influence air quality.\n",
    "\n",
    "\n",
    "### (Key Findings)\n",
    "#### Tree coverage varies substantially accross Community Districts\n",
    "#### Higher tree density often aligns with improved air quality\n",
    "Several Community Districts with higher tree count showed relatively lower levels of pollution, suggesting a potential relationship between tree coverage and cleaner air.\n",
    "#### Trees are one of multiple factors in air quality\n",
    "Though Districts with more trees often showed better air quality, the relationship is not definitive.  Other possible influential factors include:\n",
    "+ Population density and housing patterns\n",
    "+ Traffic volume and roadway density\n",
    "+ Industrial zones with higher pollution output\n",
    "+ Energy use and types\n",
    "\n",
    "### (Data Inconsistencies, limitaions, or issues)\n",
    "#### Tree data does not include canopy size\n",
    "Tree counts alone may not fully reflect environmental impact. Factors such as canopy size also affect a tree’s ability to filter air, but this information was not available in the dataset.\n",
    "#### Community District Boundaries may not align with environmental patterns\n",
    "Boundaries used for community districts may not match the geographic spread of pollution or tree distribution, which could blur important spatial patterns in the analysis.\n",
    "\n",
    "### (Conclusion)\n",
    "Summary of insights and recommendations for futre work\n",
    "\n",
    "\n",
    "\n"
   ]
  },
  {
   "cell_type": "markdown",
   "id": "34451f99",
   "metadata": {},
   "source": [
    "[View Dashboard on Tableau Public](https://public.tableau.com/views/Trees_in_NYC_smaller/Dashboard_smaller?:language=en-US&publish=yes&:sid=&:redirect=auth&:display_count=n&:origin=viz_share_link)"
   ]
  }
 ],
 "metadata": {
  "kernelspec": {
   "display_name": "venv",
   "language": "python",
   "name": "python3"
  },
  "language_info": {
   "name": "python",
   "version": "3.13.1"
  }
 },
 "nbformat": 4,
 "nbformat_minor": 5
}
