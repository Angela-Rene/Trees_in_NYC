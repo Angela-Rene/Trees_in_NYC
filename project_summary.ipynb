{
 "cells": [
  {
   "cell_type": "markdown",
   "id": "c9943671",
   "metadata": {},
   "source": [
    "# Project Summary\n",
    "\n",
    "\n",
    " The overall structure of a data analysis report is simple:\n",
    " 1. Introduction\n",
    " 2. Body\n",
    " 3. Conclusion(s)/Discussion\n",
    " 4. Appendix/Appendices\n",
    "\n",
    "\n"
   ]
  },
  {
   "cell_type": "markdown",
   "id": "34451f99",
   "metadata": {},
   "source": [
    "[View Dashboard on Tableau Public](https://public.tableau.com/views/Trees_in_NYC_smaller/Dashboard_smaller?:language=en-US&publish=yes&:sid=&:redirect=auth&:display_count=n&:origin=viz_share_link)"
   ]
  }
 ],
 "metadata": {
  "kernelspec": {
   "display_name": "venv",
   "language": "python",
   "name": "python3"
  },
  "language_info": {
   "name": "python",
   "version": "3.13.1"
  }
 },
 "nbformat": 4,
 "nbformat_minor": 5
}
