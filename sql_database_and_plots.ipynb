{
 "cells": [
  {
   "cell_type": "markdown",
   "id": "185dc6fd",
   "metadata": {},
   "source": [
    "# SQLite and Plots\n",
    "\n",
    "This second Jupyter Notebook will store cleaned data in a SQLite database, join SQLite tables, and explore plotting.\n",
    "\n",
    "Importing libraries:"
   ]
  },
  {
   "cell_type": "code",
   "execution_count": 1,
   "id": "965d4237",
   "metadata": {},
   "outputs": [],
   "source": [
    "import pandas as pd \n",
    "import matplotlib.pyplot as plt\n",
    "import sqlite3\n",
    "import plotly.express as px"
   ]
  },
  {
   "cell_type": "markdown",
   "id": "c8a1c7a2",
   "metadata": {},
   "source": [
    "Importing cleaned data:"
   ]
  },
  {
   "cell_type": "code",
   "execution_count": 2,
   "id": "c74073be",
   "metadata": {},
   "outputs": [],
   "source": [
    "air_df = pd.read_csv(\"Air_quality_by_CD.csv\")\n",
    "tree_df = pd.read_csv(\"tree_summary_by_cb.csv\")\n",
    "boro_df = pd.read_csv(\"borough_tree.csv\")"
   ]
  },
  {
   "cell_type": "markdown",
   "id": "9dc7126e",
   "metadata": {},
   "source": [
    "Creating a SQLite database and tables:"
   ]
  },
  {
   "cell_type": "code",
   "execution_count": 3,
   "id": "acd72f37",
   "metadata": {},
   "outputs": [
    {
     "name": "stdout",
     "output_type": "stream",
     "text": [
      "Air Data Table: \n",
      "\n",
      "   id  Geo_Join_ID          Time_Period                    Name  Data_Value  \\\n",
      "0   1        304.0          Summer 2015  Nitrogen dioxide (NO2)        15.5   \n",
      "1   2        410.0       Winter 2015-16  Nitrogen dioxide (NO2)        22.5   \n",
      "2   3        301.0          Summer 2015  Nitrogen dioxide (NO2)        17.0   \n",
      "3   4        409.0          Summer 2015  Nitrogen dioxide (NO2)        14.4   \n",
      "4   5        304.0  Annual Average 2015  Nitrogen dioxide (NO2)        20.3   \n",
      "\n",
      "  Measure_Info  \n",
      "0          ppb  \n",
      "1          ppb  \n",
      "2          ppb  \n",
      "3          ppb  \n",
      "4          ppb  \n",
      "Tree Data Table: \n",
      "\n",
      "   tree_id  cb_num  tree_count  avg_health_score  dbh_mean  dbh_max  \\\n",
      "0        1     101        2297            2.7101     7.096       88   \n",
      "1        2     102        4833            2.6739     8.898       33   \n",
      "2        3     103        4709            2.7084     8.449       32   \n",
      "3        4     104        4419            2.7798     7.941       38   \n",
      "4        5     105        2016            2.6037     6.375       21   \n",
      "\n",
      "   unique_species  \n",
      "0              54  \n",
      "1              80  \n",
      "2              92  \n",
      "3              57  \n",
      "4              48  \n"
     ]
    }
   ],
   "source": [
    "#Create SQLite database and tables\n",
    "conn = sqlite3.connect(\"air_and_tree.db\")\n",
    "cursor = conn.cursor()\n",
    "\n",
    "#create table air\n",
    "cursor.execute(\"\"\"\n",
    "CREATE TABLE IF NOT EXISTS air (\n",
    "    id TEXT NOT NULL,\n",
    "    Name TEXT NOT NULL,\n",
    "    Geo_Join_ID TEXT PRIMARY KEY,\n",
    "    Time_Period TEXT NOT NULL,\n",
    "    Data_Value REAL NOT NULL\n",
    ");        \n",
    "\"\"\")\n",
    "\n",
    "#create table tree\n",
    "cursor.execute(\"\"\" \n",
    "CREATE TABLE IF NOT EXISTS tree (\n",
    "    tree_id TEXT NOT NULL,\n",
    "    cb_num TEXT PRIMARY KEY,\n",
    "    dbh_mean REAL NOT NULL,\n",
    "    dbh_max INTEGER NOT NULL,\n",
    "    tree_count INTEGER NOT NULL,\n",
    "    avg_health_score REAL NOT NULL, \n",
    "    unique_species INTEGER NOT NULL\n",
    ");             \n",
    "\"\"\")\n",
    "\n",
    "#insert data into tables\n",
    "air_df.to_sql(\"air\", conn, if_exists=\"replace\", index=False)\n",
    "tree_df.to_sql(\"tree\", conn, if_exists=\"replace\", index=False)\n",
    "\n",
    "#verify data was inserted\n",
    "print(\"Air Data Table: \\n\")\n",
    "print(pd.read_sql_query(\"SELECT * FROM air LIMIT 5\", conn))\n",
    "\n",
    "print(\"Tree Data Table: \\n\")\n",
    "print(pd.read_sql_query(\"SELECT * FROM tree LIMIT 5\", conn))\n",
    "\n"
   ]
  },
  {
   "cell_type": "code",
   "execution_count": 4,
   "id": "c9cddbcf",
   "metadata": {},
   "outputs": [
    {
     "name": "stdout",
     "output_type": "stream",
     "text": [
      "Borough Table: \n",
      "\n",
      "        boroname  unique_species  avg_dbh  total_dbh  avg_health_score  \\\n",
      "0          Bronx             132   10.083     812562            2.7881   \n",
      "1       Brooklyn             132   12.165    2064944            2.7762   \n",
      "2      Manhattan             128    8.635     531005            2.6972   \n",
      "3         Queens             132   13.099    3117148            2.7757   \n",
      "4  Staten Island             131   10.799    1095489            2.7732   \n",
      "\n",
      "   total_trees  \n",
      "0        80584  \n",
      "1       169744  \n",
      "2        61495  \n",
      "3       237970  \n",
      "4       101442  \n"
     ]
    }
   ],
   "source": [
    "#Create table boro \n",
    "\n",
    "cursor.execute(\"\"\"\n",
    "CREATE TABLE IF NOT EXISTS boro (\n",
    "    boroname TEXT PRIMARY KEY,\n",
    "    unique_species INTEGER NOT NULL,\n",
    "    avg_dbh REAL NOT NULL,\n",
    "    total_dbh REAL NOT NULL,\n",
    "    avg_health_score REAL NOT NULL,\n",
    "    total_trees INTEGER NOT NULL);\n",
    "\"\"\")\n",
    "\n",
    "boro_df.to_sql(\"boro\", conn, if_exists= \"replace\", index=False)\n",
    "\n",
    "print(\"Borough Table: \\n\")\n",
    "print(pd.read_sql_query(\"\"\"SELECT * FROM boro LIMIT 5;\"\"\", conn))\n"
   ]
  },
  {
   "cell_type": "markdown",
   "id": "b50d12f0",
   "metadata": {},
   "source": [
    "Setting up a function to explore table queries:"
   ]
  },
  {
   "cell_type": "code",
   "execution_count": 5,
   "id": "f20b1bc4",
   "metadata": {},
   "outputs": [],
   "source": [
    "def query(query: str):\n",
    "    return pd.read_sql(query, conn)"
   ]
  },
  {
   "cell_type": "code",
   "execution_count": 6,
   "id": "feb22c00",
   "metadata": {},
   "outputs": [
    {
     "data": {
      "text/html": [
       "<div>\n",
       "<style scoped>\n",
       "    .dataframe tbody tr th:only-of-type {\n",
       "        vertical-align: middle;\n",
       "    }\n",
       "\n",
       "    .dataframe tbody tr th {\n",
       "        vertical-align: top;\n",
       "    }\n",
       "\n",
       "    .dataframe thead th {\n",
       "        text-align: right;\n",
       "    }\n",
       "</style>\n",
       "<table border=\"1\" class=\"dataframe\">\n",
       "  <thead>\n",
       "    <tr style=\"text-align: right;\">\n",
       "      <th></th>\n",
       "      <th>tree_id</th>\n",
       "      <th>cb_num</th>\n",
       "      <th>tree_count</th>\n",
       "      <th>avg_health_score</th>\n",
       "      <th>dbh_mean</th>\n",
       "      <th>dbh_max</th>\n",
       "      <th>unique_species</th>\n",
       "    </tr>\n",
       "  </thead>\n",
       "  <tbody>\n",
       "    <tr>\n",
       "      <th>0</th>\n",
       "      <td>1</td>\n",
       "      <td>101</td>\n",
       "      <td>2297</td>\n",
       "      <td>2.7101</td>\n",
       "      <td>7.096</td>\n",
       "      <td>88</td>\n",
       "      <td>54</td>\n",
       "    </tr>\n",
       "    <tr>\n",
       "      <th>1</th>\n",
       "      <td>2</td>\n",
       "      <td>102</td>\n",
       "      <td>4833</td>\n",
       "      <td>2.6739</td>\n",
       "      <td>8.898</td>\n",
       "      <td>33</td>\n",
       "      <td>80</td>\n",
       "    </tr>\n",
       "    <tr>\n",
       "      <th>2</th>\n",
       "      <td>3</td>\n",
       "      <td>103</td>\n",
       "      <td>4709</td>\n",
       "      <td>2.7084</td>\n",
       "      <td>8.449</td>\n",
       "      <td>32</td>\n",
       "      <td>92</td>\n",
       "    </tr>\n",
       "    <tr>\n",
       "      <th>3</th>\n",
       "      <td>4</td>\n",
       "      <td>104</td>\n",
       "      <td>4419</td>\n",
       "      <td>2.7798</td>\n",
       "      <td>7.941</td>\n",
       "      <td>38</td>\n",
       "      <td>57</td>\n",
       "    </tr>\n",
       "    <tr>\n",
       "      <th>4</th>\n",
       "      <td>5</td>\n",
       "      <td>105</td>\n",
       "      <td>2016</td>\n",
       "      <td>2.6037</td>\n",
       "      <td>6.375</td>\n",
       "      <td>21</td>\n",
       "      <td>48</td>\n",
       "    </tr>\n",
       "  </tbody>\n",
       "</table>\n",
       "</div>"
      ],
      "text/plain": [
       "   tree_id  cb_num  tree_count  avg_health_score  dbh_mean  dbh_max  \\\n",
       "0        1     101        2297            2.7101     7.096       88   \n",
       "1        2     102        4833            2.6739     8.898       33   \n",
       "2        3     103        4709            2.7084     8.449       32   \n",
       "3        4     104        4419            2.7798     7.941       38   \n",
       "4        5     105        2016            2.6037     6.375       21   \n",
       "\n",
       "   unique_species  \n",
       "0              54  \n",
       "1              80  \n",
       "2              92  \n",
       "3              57  \n",
       "4              48  "
      ]
     },
     "execution_count": 6,
     "metadata": {},
     "output_type": "execute_result"
    }
   ],
   "source": [
    "all_tree = \"\"\"SELECT * FROM tree\n",
    "        LIMIT 5;\"\"\"\n",
    "query(all_tree)"
   ]
  },
  {
   "cell_type": "code",
   "execution_count": 7,
   "id": "1df53394",
   "metadata": {},
   "outputs": [
    {
     "data": {
      "text/html": [
       "<div>\n",
       "<style scoped>\n",
       "    .dataframe tbody tr th:only-of-type {\n",
       "        vertical-align: middle;\n",
       "    }\n",
       "\n",
       "    .dataframe tbody tr th {\n",
       "        vertical-align: top;\n",
       "    }\n",
       "\n",
       "    .dataframe thead th {\n",
       "        text-align: right;\n",
       "    }\n",
       "</style>\n",
       "<table border=\"1\" class=\"dataframe\">\n",
       "  <thead>\n",
       "    <tr style=\"text-align: right;\">\n",
       "      <th></th>\n",
       "      <th>id</th>\n",
       "      <th>Geo_Join_ID</th>\n",
       "      <th>Time_Period</th>\n",
       "      <th>Name</th>\n",
       "      <th>Data_Value</th>\n",
       "      <th>Measure_Info</th>\n",
       "    </tr>\n",
       "  </thead>\n",
       "  <tbody>\n",
       "    <tr>\n",
       "      <th>0</th>\n",
       "      <td>1</td>\n",
       "      <td>304.0</td>\n",
       "      <td>Summer 2015</td>\n",
       "      <td>Nitrogen dioxide (NO2)</td>\n",
       "      <td>15.5</td>\n",
       "      <td>ppb</td>\n",
       "    </tr>\n",
       "    <tr>\n",
       "      <th>1</th>\n",
       "      <td>2</td>\n",
       "      <td>410.0</td>\n",
       "      <td>Winter 2015-16</td>\n",
       "      <td>Nitrogen dioxide (NO2)</td>\n",
       "      <td>22.5</td>\n",
       "      <td>ppb</td>\n",
       "    </tr>\n",
       "    <tr>\n",
       "      <th>2</th>\n",
       "      <td>3</td>\n",
       "      <td>301.0</td>\n",
       "      <td>Summer 2015</td>\n",
       "      <td>Nitrogen dioxide (NO2)</td>\n",
       "      <td>17.0</td>\n",
       "      <td>ppb</td>\n",
       "    </tr>\n",
       "    <tr>\n",
       "      <th>3</th>\n",
       "      <td>4</td>\n",
       "      <td>409.0</td>\n",
       "      <td>Summer 2015</td>\n",
       "      <td>Nitrogen dioxide (NO2)</td>\n",
       "      <td>14.4</td>\n",
       "      <td>ppb</td>\n",
       "    </tr>\n",
       "    <tr>\n",
       "      <th>4</th>\n",
       "      <td>5</td>\n",
       "      <td>304.0</td>\n",
       "      <td>Annual Average 2015</td>\n",
       "      <td>Nitrogen dioxide (NO2)</td>\n",
       "      <td>20.3</td>\n",
       "      <td>ppb</td>\n",
       "    </tr>\n",
       "  </tbody>\n",
       "</table>\n",
       "</div>"
      ],
      "text/plain": [
       "   id  Geo_Join_ID          Time_Period                    Name  Data_Value  \\\n",
       "0   1        304.0          Summer 2015  Nitrogen dioxide (NO2)        15.5   \n",
       "1   2        410.0       Winter 2015-16  Nitrogen dioxide (NO2)        22.5   \n",
       "2   3        301.0          Summer 2015  Nitrogen dioxide (NO2)        17.0   \n",
       "3   4        409.0          Summer 2015  Nitrogen dioxide (NO2)        14.4   \n",
       "4   5        304.0  Annual Average 2015  Nitrogen dioxide (NO2)        20.3   \n",
       "\n",
       "  Measure_Info  \n",
       "0          ppb  \n",
       "1          ppb  \n",
       "2          ppb  \n",
       "3          ppb  \n",
       "4          ppb  "
      ]
     },
     "execution_count": 7,
     "metadata": {},
     "output_type": "execute_result"
    }
   ],
   "source": [
    "all_air = \"\"\"SELECT * FROM air\n",
    "            LIMIT 5;\"\"\"\n",
    "query(all_air)"
   ]
  },
  {
   "cell_type": "code",
   "execution_count": 8,
   "id": "d737ef56",
   "metadata": {},
   "outputs": [
    {
     "data": {
      "text/html": [
       "<div>\n",
       "<style scoped>\n",
       "    .dataframe tbody tr th:only-of-type {\n",
       "        vertical-align: middle;\n",
       "    }\n",
       "\n",
       "    .dataframe tbody tr th {\n",
       "        vertical-align: top;\n",
       "    }\n",
       "\n",
       "    .dataframe thead th {\n",
       "        text-align: right;\n",
       "    }\n",
       "</style>\n",
       "<table border=\"1\" class=\"dataframe\">\n",
       "  <thead>\n",
       "    <tr style=\"text-align: right;\">\n",
       "      <th></th>\n",
       "      <th>Geo_Join_ID</th>\n",
       "      <th>Name</th>\n",
       "      <th>Data_Value</th>\n",
       "    </tr>\n",
       "  </thead>\n",
       "  <tbody>\n",
       "    <tr>\n",
       "      <th>0</th>\n",
       "      <td>304.0</td>\n",
       "      <td>Nitrogen dioxide (NO2)</td>\n",
       "      <td>15.5</td>\n",
       "    </tr>\n",
       "    <tr>\n",
       "      <th>1</th>\n",
       "      <td>301.0</td>\n",
       "      <td>Nitrogen dioxide (NO2)</td>\n",
       "      <td>17.0</td>\n",
       "    </tr>\n",
       "    <tr>\n",
       "      <th>2</th>\n",
       "      <td>409.0</td>\n",
       "      <td>Nitrogen dioxide (NO2)</td>\n",
       "      <td>14.4</td>\n",
       "    </tr>\n",
       "    <tr>\n",
       "      <th>3</th>\n",
       "      <td>201.0</td>\n",
       "      <td>Nitrogen dioxide (NO2)</td>\n",
       "      <td>17.4</td>\n",
       "    </tr>\n",
       "    <tr>\n",
       "      <th>4</th>\n",
       "      <td>104.0</td>\n",
       "      <td>Nitrogen dioxide (NO2)</td>\n",
       "      <td>23.4</td>\n",
       "    </tr>\n",
       "  </tbody>\n",
       "</table>\n",
       "</div>"
      ],
      "text/plain": [
       "   Geo_Join_ID                    Name  Data_Value\n",
       "0        304.0  Nitrogen dioxide (NO2)        15.5\n",
       "1        301.0  Nitrogen dioxide (NO2)        17.0\n",
       "2        409.0  Nitrogen dioxide (NO2)        14.4\n",
       "3        201.0  Nitrogen dioxide (NO2)        17.4\n",
       "4        104.0  Nitrogen dioxide (NO2)        23.4"
      ]
     },
     "execution_count": 8,
     "metadata": {},
     "output_type": "execute_result"
    }
   ],
   "source": [
    "nitrogen_dioxide = \"\"\"SELECT Geo_Join_ID, Name, Data_Value \n",
    "                        FROM air\n",
    "                        WHERE Name = 'Nitrogen dioxide (NO2)'\n",
    "                        AND Time_Period = 'Summer 2015'\n",
    "                        LIMIT 5;\n",
    "                        \"\"\"\n",
    "query(nitrogen_dioxide)"
   ]
  },
  {
   "cell_type": "markdown",
   "id": "4a7d5242",
   "metadata": {},
   "source": [
    "Joining air table and tree table:"
   ]
  },
  {
   "cell_type": "code",
   "execution_count": 9,
   "id": "f4ee10eb",
   "metadata": {},
   "outputs": [
    {
     "data": {
      "text/html": [
       "<div>\n",
       "<style scoped>\n",
       "    .dataframe tbody tr th:only-of-type {\n",
       "        vertical-align: middle;\n",
       "    }\n",
       "\n",
       "    .dataframe tbody tr th {\n",
       "        vertical-align: top;\n",
       "    }\n",
       "\n",
       "    .dataframe thead th {\n",
       "        text-align: right;\n",
       "    }\n",
       "</style>\n",
       "<table border=\"1\" class=\"dataframe\">\n",
       "  <thead>\n",
       "    <tr style=\"text-align: right;\">\n",
       "      <th></th>\n",
       "      <th>id</th>\n",
       "      <th>Geo_Join_ID</th>\n",
       "      <th>Time_Period</th>\n",
       "      <th>Name</th>\n",
       "      <th>Data_Value</th>\n",
       "      <th>Measure_Info</th>\n",
       "      <th>tree_id</th>\n",
       "      <th>cb_num</th>\n",
       "      <th>tree_count</th>\n",
       "      <th>avg_health_score</th>\n",
       "      <th>dbh_mean</th>\n",
       "      <th>dbh_max</th>\n",
       "      <th>unique_species</th>\n",
       "    </tr>\n",
       "  </thead>\n",
       "  <tbody>\n",
       "    <tr>\n",
       "      <th>0</th>\n",
       "      <td>1</td>\n",
       "      <td>304.0</td>\n",
       "      <td>Summer 2015</td>\n",
       "      <td>Nitrogen dioxide (NO2)</td>\n",
       "      <td>15.5</td>\n",
       "      <td>ppb</td>\n",
       "      <td>28</td>\n",
       "      <td>304</td>\n",
       "      <td>6817</td>\n",
       "      <td>2.7081</td>\n",
       "      <td>8.918</td>\n",
       "      <td>52</td>\n",
       "      <td>102</td>\n",
       "    </tr>\n",
       "    <tr>\n",
       "      <th>1</th>\n",
       "      <td>2</td>\n",
       "      <td>410.0</td>\n",
       "      <td>Winter 2015-16</td>\n",
       "      <td>Nitrogen dioxide (NO2)</td>\n",
       "      <td>22.5</td>\n",
       "      <td>ppb</td>\n",
       "      <td>52</td>\n",
       "      <td>410</td>\n",
       "      <td>14353</td>\n",
       "      <td>2.7888</td>\n",
       "      <td>14.260</td>\n",
       "      <td>64</td>\n",
       "      <td>115</td>\n",
       "    </tr>\n",
       "    <tr>\n",
       "      <th>2</th>\n",
       "      <td>3</td>\n",
       "      <td>301.0</td>\n",
       "      <td>Summer 2015</td>\n",
       "      <td>Nitrogen dioxide (NO2)</td>\n",
       "      <td>17.0</td>\n",
       "      <td>ppb</td>\n",
       "      <td>25</td>\n",
       "      <td>301</td>\n",
       "      <td>11542</td>\n",
       "      <td>2.8084</td>\n",
       "      <td>9.234</td>\n",
       "      <td>151</td>\n",
       "      <td>98</td>\n",
       "    </tr>\n",
       "    <tr>\n",
       "      <th>3</th>\n",
       "      <td>4</td>\n",
       "      <td>409.0</td>\n",
       "      <td>Summer 2015</td>\n",
       "      <td>Nitrogen dioxide (NO2)</td>\n",
       "      <td>14.4</td>\n",
       "      <td>ppb</td>\n",
       "      <td>51</td>\n",
       "      <td>409</td>\n",
       "      <td>10878</td>\n",
       "      <td>2.7726</td>\n",
       "      <td>14.965</td>\n",
       "      <td>132</td>\n",
       "      <td>118</td>\n",
       "    </tr>\n",
       "    <tr>\n",
       "      <th>4</th>\n",
       "      <td>5</td>\n",
       "      <td>304.0</td>\n",
       "      <td>Annual Average 2015</td>\n",
       "      <td>Nitrogen dioxide (NO2)</td>\n",
       "      <td>20.3</td>\n",
       "      <td>ppb</td>\n",
       "      <td>28</td>\n",
       "      <td>304</td>\n",
       "      <td>6817</td>\n",
       "      <td>2.7081</td>\n",
       "      <td>8.918</td>\n",
       "      <td>52</td>\n",
       "      <td>102</td>\n",
       "    </tr>\n",
       "  </tbody>\n",
       "</table>\n",
       "</div>"
      ],
      "text/plain": [
       "   id  Geo_Join_ID          Time_Period                    Name  Data_Value  \\\n",
       "0   1        304.0          Summer 2015  Nitrogen dioxide (NO2)        15.5   \n",
       "1   2        410.0       Winter 2015-16  Nitrogen dioxide (NO2)        22.5   \n",
       "2   3        301.0          Summer 2015  Nitrogen dioxide (NO2)        17.0   \n",
       "3   4        409.0          Summer 2015  Nitrogen dioxide (NO2)        14.4   \n",
       "4   5        304.0  Annual Average 2015  Nitrogen dioxide (NO2)        20.3   \n",
       "\n",
       "  Measure_Info  tree_id  cb_num  tree_count  avg_health_score  dbh_mean  \\\n",
       "0          ppb       28     304        6817            2.7081     8.918   \n",
       "1          ppb       52     410       14353            2.7888    14.260   \n",
       "2          ppb       25     301       11542            2.8084     9.234   \n",
       "3          ppb       51     409       10878            2.7726    14.965   \n",
       "4          ppb       28     304        6817            2.7081     8.918   \n",
       "\n",
       "   dbh_max  unique_species  \n",
       "0       52             102  \n",
       "1       64             115  \n",
       "2      151              98  \n",
       "3      132             118  \n",
       "4       52             102  "
      ]
     },
     "execution_count": 9,
     "metadata": {},
     "output_type": "execute_result"
    }
   ],
   "source": [
    "joined_tables = (\"\"\"SELECT *\n",
    "                 FROM air\n",
    "                 LEFT JOIN tree\n",
    "                 ON air.Geo_Join_ID = tree.cb_num\n",
    "                 LIMIT 5;\n",
    "                 \"\"\")\n",
    "\n",
    "query(joined_tables)"
   ]
  },
  {
   "cell_type": "markdown",
   "id": "62566db0",
   "metadata": {},
   "source": [
    "Joining air table and tree table, and filtering for visualizations:"
   ]
  },
  {
   "cell_type": "markdown",
   "id": "b4383b31",
   "metadata": {},
   "source": [
    "(Will be using colorblind-friendly colors in visualizations. Main colors: saddle brown (#8B4513), olive drab (#6B8E23), and dark goldenrod (#B8860B).)"
   ]
  },
  {
   "cell_type": "code",
   "execution_count": 10,
   "id": "29c385f8",
   "metadata": {},
   "outputs": [
    {
     "data": {
      "text/html": [
       "<div>\n",
       "<style scoped>\n",
       "    .dataframe tbody tr th:only-of-type {\n",
       "        vertical-align: middle;\n",
       "    }\n",
       "\n",
       "    .dataframe tbody tr th {\n",
       "        vertical-align: top;\n",
       "    }\n",
       "\n",
       "    .dataframe thead th {\n",
       "        text-align: right;\n",
       "    }\n",
       "</style>\n",
       "<table border=\"1\" class=\"dataframe\">\n",
       "  <thead>\n",
       "    <tr style=\"text-align: right;\">\n",
       "      <th></th>\n",
       "      <th>cb_num</th>\n",
       "      <th>count</th>\n",
       "      <th>Name</th>\n",
       "      <th>NO2_value</th>\n",
       "    </tr>\n",
       "  </thead>\n",
       "  <tbody>\n",
       "    <tr>\n",
       "      <th>0</th>\n",
       "      <td>105</td>\n",
       "      <td>2016</td>\n",
       "      <td>Nitrogen dioxide (NO2)</td>\n",
       "      <td>29.7</td>\n",
       "    </tr>\n",
       "    <tr>\n",
       "      <th>1</th>\n",
       "      <td>101</td>\n",
       "      <td>2297</td>\n",
       "      <td>Nitrogen dioxide (NO2)</td>\n",
       "      <td>23.0</td>\n",
       "    </tr>\n",
       "    <tr>\n",
       "      <th>2</th>\n",
       "      <td>313</td>\n",
       "      <td>3725</td>\n",
       "      <td>Nitrogen dioxide (NO2)</td>\n",
       "      <td>10.0</td>\n",
       "    </tr>\n",
       "    <tr>\n",
       "      <th>3</th>\n",
       "      <td>104</td>\n",
       "      <td>4419</td>\n",
       "      <td>Nitrogen dioxide (NO2)</td>\n",
       "      <td>23.4</td>\n",
       "    </tr>\n",
       "    <tr>\n",
       "      <th>4</th>\n",
       "      <td>111</td>\n",
       "      <td>4465</td>\n",
       "      <td>Nitrogen dioxide (NO2)</td>\n",
       "      <td>18.6</td>\n",
       "    </tr>\n",
       "  </tbody>\n",
       "</table>\n",
       "</div>"
      ],
      "text/plain": [
       "   cb_num  count                    Name  NO2_value\n",
       "0     105   2016  Nitrogen dioxide (NO2)       29.7\n",
       "1     101   2297  Nitrogen dioxide (NO2)       23.0\n",
       "2     313   3725  Nitrogen dioxide (NO2)       10.0\n",
       "3     104   4419  Nitrogen dioxide (NO2)       23.4\n",
       "4     111   4465  Nitrogen dioxide (NO2)       18.6"
      ]
     },
     "execution_count": 10,
     "metadata": {},
     "output_type": "execute_result"
    }
   ],
   "source": [
    "viz_summer = pd.read_sql_query((\"\"\"SELECT tree.cb_num, tree.tree_count AS count, air.Name, air.Data_Value as NO2_value\n",
    "                 FROM air\n",
    "                 LEFT JOIN tree\n",
    "                 ON air.Geo_Join_ID = tree.cb_num\n",
    "                 WHERE air.Time_Period = 'Summer 2015' AND\n",
    "                 air.Name = 'Nitrogen dioxide (NO2)'\n",
    "                 ORDER BY tree_count ASC;\n",
    "                 \"\"\"), conn)\n",
    "viz_summer.head()"
   ]
  },
  {
   "cell_type": "code",
   "execution_count": 11,
   "id": "161837ef",
   "metadata": {},
   "outputs": [
    {
     "data": {
      "text/html": [
       "<div>\n",
       "<style scoped>\n",
       "    .dataframe tbody tr th:only-of-type {\n",
       "        vertical-align: middle;\n",
       "    }\n",
       "\n",
       "    .dataframe tbody tr th {\n",
       "        vertical-align: top;\n",
       "    }\n",
       "\n",
       "    .dataframe thead th {\n",
       "        text-align: right;\n",
       "    }\n",
       "</style>\n",
       "<table border=\"1\" class=\"dataframe\">\n",
       "  <thead>\n",
       "    <tr style=\"text-align: right;\">\n",
       "      <th></th>\n",
       "      <th>cb_num</th>\n",
       "      <th>count</th>\n",
       "      <th>Name</th>\n",
       "      <th>NO2_value</th>\n",
       "    </tr>\n",
       "  </thead>\n",
       "  <tbody>\n",
       "    <tr>\n",
       "      <th>0</th>\n",
       "      <td>105</td>\n",
       "      <td>2016</td>\n",
       "      <td>Nitrogen dioxide (NO2)</td>\n",
       "      <td>33.4</td>\n",
       "    </tr>\n",
       "    <tr>\n",
       "      <th>1</th>\n",
       "      <td>101</td>\n",
       "      <td>2297</td>\n",
       "      <td>Nitrogen dioxide (NO2)</td>\n",
       "      <td>29.1</td>\n",
       "    </tr>\n",
       "    <tr>\n",
       "      <th>2</th>\n",
       "      <td>313</td>\n",
       "      <td>3725</td>\n",
       "      <td>Nitrogen dioxide (NO2)</td>\n",
       "      <td>20.3</td>\n",
       "    </tr>\n",
       "    <tr>\n",
       "      <th>3</th>\n",
       "      <td>104</td>\n",
       "      <td>4419</td>\n",
       "      <td>Nitrogen dioxide (NO2)</td>\n",
       "      <td>29.6</td>\n",
       "    </tr>\n",
       "    <tr>\n",
       "      <th>4</th>\n",
       "      <td>111</td>\n",
       "      <td>4465</td>\n",
       "      <td>Nitrogen dioxide (NO2)</td>\n",
       "      <td>25.9</td>\n",
       "    </tr>\n",
       "  </tbody>\n",
       "</table>\n",
       "</div>"
      ],
      "text/plain": [
       "   cb_num  count                    Name  NO2_value\n",
       "0     105   2016  Nitrogen dioxide (NO2)       33.4\n",
       "1     101   2297  Nitrogen dioxide (NO2)       29.1\n",
       "2     313   3725  Nitrogen dioxide (NO2)       20.3\n",
       "3     104   4419  Nitrogen dioxide (NO2)       29.6\n",
       "4     111   4465  Nitrogen dioxide (NO2)       25.9"
      ]
     },
     "execution_count": 11,
     "metadata": {},
     "output_type": "execute_result"
    }
   ],
   "source": [
    "viz_winter = pd.read_sql_query((\"\"\"SELECT tree.cb_num, tree.tree_count AS count, air.Name, air.Data_Value as NO2_value\n",
    "                 FROM air\n",
    "                 LEFT JOIN tree\n",
    "                 ON air.Geo_Join_ID = tree.cb_num\n",
    "                 WHERE air.Time_Period = 'Winter 2015-16' AND\n",
    "                 air.Name = 'Nitrogen dioxide (NO2)'\n",
    "                 ORDER BY tree_count ASC;\n",
    "                 \"\"\"), conn)\n",
    "viz_winter.head()"
   ]
  },
  {
   "cell_type": "code",
   "execution_count": 12,
   "id": "78e2f4d8",
   "metadata": {},
   "outputs": [
    {
     "data": {
      "text/html": [
       "<div>\n",
       "<style scoped>\n",
       "    .dataframe tbody tr th:only-of-type {\n",
       "        vertical-align: middle;\n",
       "    }\n",
       "\n",
       "    .dataframe tbody tr th {\n",
       "        vertical-align: top;\n",
       "    }\n",
       "\n",
       "    .dataframe thead th {\n",
       "        text-align: right;\n",
       "    }\n",
       "</style>\n",
       "<table border=\"1\" class=\"dataframe\">\n",
       "  <thead>\n",
       "    <tr style=\"text-align: right;\">\n",
       "      <th></th>\n",
       "      <th>boroname</th>\n",
       "      <th>avg_health_score</th>\n",
       "      <th>total_trees</th>\n",
       "    </tr>\n",
       "  </thead>\n",
       "  <tbody>\n",
       "    <tr>\n",
       "      <th>0</th>\n",
       "      <td>Queens</td>\n",
       "      <td>2.7757</td>\n",
       "      <td>237970</td>\n",
       "    </tr>\n",
       "    <tr>\n",
       "      <th>1</th>\n",
       "      <td>Brooklyn</td>\n",
       "      <td>2.7762</td>\n",
       "      <td>169744</td>\n",
       "    </tr>\n",
       "    <tr>\n",
       "      <th>2</th>\n",
       "      <td>Staten Island</td>\n",
       "      <td>2.7732</td>\n",
       "      <td>101442</td>\n",
       "    </tr>\n",
       "    <tr>\n",
       "      <th>3</th>\n",
       "      <td>Bronx</td>\n",
       "      <td>2.7881</td>\n",
       "      <td>80584</td>\n",
       "    </tr>\n",
       "    <tr>\n",
       "      <th>4</th>\n",
       "      <td>Manhattan</td>\n",
       "      <td>2.6972</td>\n",
       "      <td>61495</td>\n",
       "    </tr>\n",
       "  </tbody>\n",
       "</table>\n",
       "</div>"
      ],
      "text/plain": [
       "        boroname  avg_health_score  total_trees\n",
       "0         Queens            2.7757       237970\n",
       "1       Brooklyn            2.7762       169744\n",
       "2  Staten Island            2.7732       101442\n",
       "3          Bronx            2.7881        80584\n",
       "4      Manhattan            2.6972        61495"
      ]
     },
     "execution_count": 12,
     "metadata": {},
     "output_type": "execute_result"
    }
   ],
   "source": [
    "viz_boro = pd.read_sql_query(\"\"\" \n",
    "                             SELECT boroname, avg_health_score, total_trees FROM boro\n",
    "                             ORDER BY total_trees DESC;\n",
    "                             \"\"\", conn)\n",
    "viz_boro"
   ]
  },
  {
   "cell_type": "markdown",
   "id": "b38308ab",
   "metadata": {},
   "source": [
    "Using matplotlib and plotly to explore some plotting:\n",
    "\n",
    "\n",
    "Looking at Nitrogen Dioxide levels of each Community District in summer and winter:"
   ]
  },
  {
   "cell_type": "code",
   "execution_count": 13,
   "id": "a3eaf539",
   "metadata": {},
   "outputs": [
    {
     "data": {
      "application/vnd.plotly.v1+json": {
       "config": {
        "plotlyServerURL": "https://plot.ly"
       },
       "data": [
        {
         "hovertemplate": "count=%{x}<br>NO2_value=%{y}<extra></extra>",
         "legendgroup": "",
         "line": {
          "color": "#6B8E23",
          "dash": "solid"
         },
         "marker": {
          "symbol": "circle"
         },
         "mode": "lines",
         "name": "",
         "orientation": "v",
         "showlegend": false,
         "type": "scatter",
         "x": {
          "bdata": "4AcAAPkIAACNDgAAQxEAAHERAACkEQAAqBEAAAUSAABeEgAAZRIAAJMSAADhEgAAABMAAB4TAACyEwAA5RMAAAoUAACZFQAAABYAAJ0WAACsFwAA5BgAAFkaAAChGgAAbB4AAH8fAABsIAAAjCAAAOwgAAAaIQAAKiMAAM0jAAAUJQAAfSUAABUmAAC7JgAAhycAAIgnAABLKAAAGikAACIqAAB+KgAAeiwAABYtAADJLgAAazAAALUyAAAROAAAKT4AAP9HAAAKSAAAZEwAAHFgAABPYQAAlGEAABtpAADwcQAAbIkAAILKAAA=",
          "dtype": "i4"
         },
         "xaxis": "x",
         "y": {
          "bdata": "MzMzMzOzPUAAAAAAAAA3QAAAAAAAACRAZmZmZmZmN0CamZmZmZkyQGZmZmZmZjFAzczMzMzMMkAzMzMzMzMxQGZmZmZmZjBAMzMzMzMzNEBmZmZmZuYyQGZmZmZmZjZAmpmZmZmZOUBmZmZmZmYxQAAAAAAAAC5AzczMzMxMMUDNzMzMzMwvQJqZmZmZmTBAmpmZmZkZM0CamZmZmZksQGZmZmZmZjJAmpmZmZkZMUBmZmZmZuYwQAAAAAAAAC9AMzMzMzMzLkAzMzMzMzMtQGZmZmZmZjBAzczMzMzMM0AzMzMzM7M1QAAAAAAAADJAMzMzMzMzK0CamZmZmZkwQGZmZmZmZi9AmpmZmZmZL0BmZmZmZmYuQGZmZmZm5jBAZmZmZmZmLEAAAAAAAAAsQDMzMzMzMzBAmpmZmZmZLkAzMzMzMzMtQM3MzMzMzCxAmpmZmZmZG0AAAAAAAAAxQJqZmZmZmS1AzczMzMzML0DNzMzMzMwmQJqZmZmZmSlAzczMzMzMKkDNzMzMzMwsQJqZmZmZmSVAAAAAAAAAK0AAAAAAAAApQJqZmZmZmSFAzczMzMzMKkAAAAAAAAAqQM3MzMzMzCxAMzMzMzMzKEBmZmZmZmYaQA==",
          "dtype": "f8"
         },
         "yaxis": "y"
        }
       ],
       "layout": {
        "legend": {
         "tracegroupgap": 0
        },
        "template": {
         "data": {
          "bar": [
           {
            "error_x": {
             "color": "#2a3f5f"
            },
            "error_y": {
             "color": "#2a3f5f"
            },
            "marker": {
             "line": {
              "color": "#E5ECF6",
              "width": 0.5
             },
             "pattern": {
              "fillmode": "overlay",
              "size": 10,
              "solidity": 0.2
             }
            },
            "type": "bar"
           }
          ],
          "barpolar": [
           {
            "marker": {
             "line": {
              "color": "#E5ECF6",
              "width": 0.5
             },
             "pattern": {
              "fillmode": "overlay",
              "size": 10,
              "solidity": 0.2
             }
            },
            "type": "barpolar"
           }
          ],
          "carpet": [
           {
            "aaxis": {
             "endlinecolor": "#2a3f5f",
             "gridcolor": "white",
             "linecolor": "white",
             "minorgridcolor": "white",
             "startlinecolor": "#2a3f5f"
            },
            "baxis": {
             "endlinecolor": "#2a3f5f",
             "gridcolor": "white",
             "linecolor": "white",
             "minorgridcolor": "white",
             "startlinecolor": "#2a3f5f"
            },
            "type": "carpet"
           }
          ],
          "choropleth": [
           {
            "colorbar": {
             "outlinewidth": 0,
             "ticks": ""
            },
            "type": "choropleth"
           }
          ],
          "contour": [
           {
            "colorbar": {
             "outlinewidth": 0,
             "ticks": ""
            },
            "colorscale": [
             [
              0,
              "#0d0887"
             ],
             [
              0.1111111111111111,
              "#46039f"
             ],
             [
              0.2222222222222222,
              "#7201a8"
             ],
             [
              0.3333333333333333,
              "#9c179e"
             ],
             [
              0.4444444444444444,
              "#bd3786"
             ],
             [
              0.5555555555555556,
              "#d8576b"
             ],
             [
              0.6666666666666666,
              "#ed7953"
             ],
             [
              0.7777777777777778,
              "#fb9f3a"
             ],
             [
              0.8888888888888888,
              "#fdca26"
             ],
             [
              1,
              "#f0f921"
             ]
            ],
            "type": "contour"
           }
          ],
          "contourcarpet": [
           {
            "colorbar": {
             "outlinewidth": 0,
             "ticks": ""
            },
            "type": "contourcarpet"
           }
          ],
          "heatmap": [
           {
            "colorbar": {
             "outlinewidth": 0,
             "ticks": ""
            },
            "colorscale": [
             [
              0,
              "#0d0887"
             ],
             [
              0.1111111111111111,
              "#46039f"
             ],
             [
              0.2222222222222222,
              "#7201a8"
             ],
             [
              0.3333333333333333,
              "#9c179e"
             ],
             [
              0.4444444444444444,
              "#bd3786"
             ],
             [
              0.5555555555555556,
              "#d8576b"
             ],
             [
              0.6666666666666666,
              "#ed7953"
             ],
             [
              0.7777777777777778,
              "#fb9f3a"
             ],
             [
              0.8888888888888888,
              "#fdca26"
             ],
             [
              1,
              "#f0f921"
             ]
            ],
            "type": "heatmap"
           }
          ],
          "histogram": [
           {
            "marker": {
             "pattern": {
              "fillmode": "overlay",
              "size": 10,
              "solidity": 0.2
             }
            },
            "type": "histogram"
           }
          ],
          "histogram2d": [
           {
            "colorbar": {
             "outlinewidth": 0,
             "ticks": ""
            },
            "colorscale": [
             [
              0,
              "#0d0887"
             ],
             [
              0.1111111111111111,
              "#46039f"
             ],
             [
              0.2222222222222222,
              "#7201a8"
             ],
             [
              0.3333333333333333,
              "#9c179e"
             ],
             [
              0.4444444444444444,
              "#bd3786"
             ],
             [
              0.5555555555555556,
              "#d8576b"
             ],
             [
              0.6666666666666666,
              "#ed7953"
             ],
             [
              0.7777777777777778,
              "#fb9f3a"
             ],
             [
              0.8888888888888888,
              "#fdca26"
             ],
             [
              1,
              "#f0f921"
             ]
            ],
            "type": "histogram2d"
           }
          ],
          "histogram2dcontour": [
           {
            "colorbar": {
             "outlinewidth": 0,
             "ticks": ""
            },
            "colorscale": [
             [
              0,
              "#0d0887"
             ],
             [
              0.1111111111111111,
              "#46039f"
             ],
             [
              0.2222222222222222,
              "#7201a8"
             ],
             [
              0.3333333333333333,
              "#9c179e"
             ],
             [
              0.4444444444444444,
              "#bd3786"
             ],
             [
              0.5555555555555556,
              "#d8576b"
             ],
             [
              0.6666666666666666,
              "#ed7953"
             ],
             [
              0.7777777777777778,
              "#fb9f3a"
             ],
             [
              0.8888888888888888,
              "#fdca26"
             ],
             [
              1,
              "#f0f921"
             ]
            ],
            "type": "histogram2dcontour"
           }
          ],
          "mesh3d": [
           {
            "colorbar": {
             "outlinewidth": 0,
             "ticks": ""
            },
            "type": "mesh3d"
           }
          ],
          "parcoords": [
           {
            "line": {
             "colorbar": {
              "outlinewidth": 0,
              "ticks": ""
             }
            },
            "type": "parcoords"
           }
          ],
          "pie": [
           {
            "automargin": true,
            "type": "pie"
           }
          ],
          "scatter": [
           {
            "fillpattern": {
             "fillmode": "overlay",
             "size": 10,
             "solidity": 0.2
            },
            "type": "scatter"
           }
          ],
          "scatter3d": [
           {
            "line": {
             "colorbar": {
              "outlinewidth": 0,
              "ticks": ""
             }
            },
            "marker": {
             "colorbar": {
              "outlinewidth": 0,
              "ticks": ""
             }
            },
            "type": "scatter3d"
           }
          ],
          "scattercarpet": [
           {
            "marker": {
             "colorbar": {
              "outlinewidth": 0,
              "ticks": ""
             }
            },
            "type": "scattercarpet"
           }
          ],
          "scattergeo": [
           {
            "marker": {
             "colorbar": {
              "outlinewidth": 0,
              "ticks": ""
             }
            },
            "type": "scattergeo"
           }
          ],
          "scattergl": [
           {
            "marker": {
             "colorbar": {
              "outlinewidth": 0,
              "ticks": ""
             }
            },
            "type": "scattergl"
           }
          ],
          "scattermap": [
           {
            "marker": {
             "colorbar": {
              "outlinewidth": 0,
              "ticks": ""
             }
            },
            "type": "scattermap"
           }
          ],
          "scattermapbox": [
           {
            "marker": {
             "colorbar": {
              "outlinewidth": 0,
              "ticks": ""
             }
            },
            "type": "scattermapbox"
           }
          ],
          "scatterpolar": [
           {
            "marker": {
             "colorbar": {
              "outlinewidth": 0,
              "ticks": ""
             }
            },
            "type": "scatterpolar"
           }
          ],
          "scatterpolargl": [
           {
            "marker": {
             "colorbar": {
              "outlinewidth": 0,
              "ticks": ""
             }
            },
            "type": "scatterpolargl"
           }
          ],
          "scatterternary": [
           {
            "marker": {
             "colorbar": {
              "outlinewidth": 0,
              "ticks": ""
             }
            },
            "type": "scatterternary"
           }
          ],
          "surface": [
           {
            "colorbar": {
             "outlinewidth": 0,
             "ticks": ""
            },
            "colorscale": [
             [
              0,
              "#0d0887"
             ],
             [
              0.1111111111111111,
              "#46039f"
             ],
             [
              0.2222222222222222,
              "#7201a8"
             ],
             [
              0.3333333333333333,
              "#9c179e"
             ],
             [
              0.4444444444444444,
              "#bd3786"
             ],
             [
              0.5555555555555556,
              "#d8576b"
             ],
             [
              0.6666666666666666,
              "#ed7953"
             ],
             [
              0.7777777777777778,
              "#fb9f3a"
             ],
             [
              0.8888888888888888,
              "#fdca26"
             ],
             [
              1,
              "#f0f921"
             ]
            ],
            "type": "surface"
           }
          ],
          "table": [
           {
            "cells": {
             "fill": {
              "color": "#EBF0F8"
             },
             "line": {
              "color": "white"
             }
            },
            "header": {
             "fill": {
              "color": "#C8D4E3"
             },
             "line": {
              "color": "white"
             }
            },
            "type": "table"
           }
          ]
         },
         "layout": {
          "annotationdefaults": {
           "arrowcolor": "#2a3f5f",
           "arrowhead": 0,
           "arrowwidth": 1
          },
          "autotypenumbers": "strict",
          "coloraxis": {
           "colorbar": {
            "outlinewidth": 0,
            "ticks": ""
           }
          },
          "colorscale": {
           "diverging": [
            [
             0,
             "#8e0152"
            ],
            [
             0.1,
             "#c51b7d"
            ],
            [
             0.2,
             "#de77ae"
            ],
            [
             0.3,
             "#f1b6da"
            ],
            [
             0.4,
             "#fde0ef"
            ],
            [
             0.5,
             "#f7f7f7"
            ],
            [
             0.6,
             "#e6f5d0"
            ],
            [
             0.7,
             "#b8e186"
            ],
            [
             0.8,
             "#7fbc41"
            ],
            [
             0.9,
             "#4d9221"
            ],
            [
             1,
             "#276419"
            ]
           ],
           "sequential": [
            [
             0,
             "#0d0887"
            ],
            [
             0.1111111111111111,
             "#46039f"
            ],
            [
             0.2222222222222222,
             "#7201a8"
            ],
            [
             0.3333333333333333,
             "#9c179e"
            ],
            [
             0.4444444444444444,
             "#bd3786"
            ],
            [
             0.5555555555555556,
             "#d8576b"
            ],
            [
             0.6666666666666666,
             "#ed7953"
            ],
            [
             0.7777777777777778,
             "#fb9f3a"
            ],
            [
             0.8888888888888888,
             "#fdca26"
            ],
            [
             1,
             "#f0f921"
            ]
           ],
           "sequentialminus": [
            [
             0,
             "#0d0887"
            ],
            [
             0.1111111111111111,
             "#46039f"
            ],
            [
             0.2222222222222222,
             "#7201a8"
            ],
            [
             0.3333333333333333,
             "#9c179e"
            ],
            [
             0.4444444444444444,
             "#bd3786"
            ],
            [
             0.5555555555555556,
             "#d8576b"
            ],
            [
             0.6666666666666666,
             "#ed7953"
            ],
            [
             0.7777777777777778,
             "#fb9f3a"
            ],
            [
             0.8888888888888888,
             "#fdca26"
            ],
            [
             1,
             "#f0f921"
            ]
           ]
          },
          "colorway": [
           "#636efa",
           "#EF553B",
           "#00cc96",
           "#ab63fa",
           "#FFA15A",
           "#19d3f3",
           "#FF6692",
           "#B6E880",
           "#FF97FF",
           "#FECB52"
          ],
          "font": {
           "color": "#2a3f5f"
          },
          "geo": {
           "bgcolor": "white",
           "lakecolor": "white",
           "landcolor": "#E5ECF6",
           "showlakes": true,
           "showland": true,
           "subunitcolor": "white"
          },
          "hoverlabel": {
           "align": "left"
          },
          "hovermode": "closest",
          "mapbox": {
           "style": "light"
          },
          "paper_bgcolor": "white",
          "plot_bgcolor": "#E5ECF6",
          "polar": {
           "angularaxis": {
            "gridcolor": "white",
            "linecolor": "white",
            "ticks": ""
           },
           "bgcolor": "#E5ECF6",
           "radialaxis": {
            "gridcolor": "white",
            "linecolor": "white",
            "ticks": ""
           }
          },
          "scene": {
           "xaxis": {
            "backgroundcolor": "#E5ECF6",
            "gridcolor": "white",
            "gridwidth": 2,
            "linecolor": "white",
            "showbackground": true,
            "ticks": "",
            "zerolinecolor": "white"
           },
           "yaxis": {
            "backgroundcolor": "#E5ECF6",
            "gridcolor": "white",
            "gridwidth": 2,
            "linecolor": "white",
            "showbackground": true,
            "ticks": "",
            "zerolinecolor": "white"
           },
           "zaxis": {
            "backgroundcolor": "#E5ECF6",
            "gridcolor": "white",
            "gridwidth": 2,
            "linecolor": "white",
            "showbackground": true,
            "ticks": "",
            "zerolinecolor": "white"
           }
          },
          "shapedefaults": {
           "line": {
            "color": "#2a3f5f"
           }
          },
          "ternary": {
           "aaxis": {
            "gridcolor": "white",
            "linecolor": "white",
            "ticks": ""
           },
           "baxis": {
            "gridcolor": "white",
            "linecolor": "white",
            "ticks": ""
           },
           "bgcolor": "#E5ECF6",
           "caxis": {
            "gridcolor": "white",
            "linecolor": "white",
            "ticks": ""
           }
          },
          "title": {
           "x": 0.05
          },
          "xaxis": {
           "automargin": true,
           "gridcolor": "white",
           "linecolor": "white",
           "ticks": "",
           "title": {
            "standoff": 15
           },
           "zerolinecolor": "white",
           "zerolinewidth": 2
          },
          "yaxis": {
           "automargin": true,
           "gridcolor": "white",
           "linecolor": "white",
           "ticks": "",
           "title": {
            "standoff": 15
           },
           "zerolinecolor": "white",
           "zerolinewidth": 2
          }
         }
        },
        "title": {
         "text": "NO2 Levels by Tree Count- Summer 2015"
        },
        "xaxis": {
         "anchor": "y",
         "domain": [
          0,
          1
         ],
         "title": {
          "text": "Tree Count (by Community District)"
         }
        },
        "yaxis": {
         "anchor": "x",
         "domain": [
          0,
          1
         ],
         "title": {
          "text": "NO2(ppb)"
         }
        }
       }
      }
     },
     "metadata": {},
     "output_type": "display_data"
    }
   ],
   "source": [
    "#plotly summer line graph\n",
    "summer = px.line(viz_summer, x=\"count\", y= \"NO2_value\", title= \"NO2 Levels by Tree Count- Summer 2015\", color_discrete_sequence=[\"#6B8E23\"])\n",
    "summer.update_layout(xaxis_title= \"Tree Count (by Community District)\", yaxis_title= \"NO2(ppb)\")\n",
    "summer.show()"
   ]
  },
  {
   "cell_type": "code",
   "execution_count": 14,
   "id": "123a900a",
   "metadata": {},
   "outputs": [
    {
     "data": {
      "application/vnd.plotly.v1+json": {
       "config": {
        "plotlyServerURL": "https://plot.ly"
       },
       "data": [
        {
         "hovertemplate": "count=%{x}<br>NO2_value=%{y}<extra></extra>",
         "legendgroup": "",
         "line": {
          "color": "#8B4513",
          "dash": "solid"
         },
         "marker": {
          "symbol": "circle"
         },
         "mode": "lines",
         "name": "",
         "orientation": "v",
         "showlegend": false,
         "type": "scatter",
         "x": {
          "bdata": "4AcAAPkIAACNDgAAQxEAAHERAACkEQAAqBEAAAUSAABeEgAAZRIAAJMSAADhEgAAABMAAB4TAACyEwAA5RMAAAoUAACZFQAAABYAAJ0WAACsFwAA5BgAAFkaAAChGgAAbB4AAH8fAABsIAAAjCAAAOwgAAAaIQAAKiMAAM0jAAAUJQAAfSUAABUmAAC7JgAAhycAAIgnAABLKAAAGikAACIqAAB+KgAAeiwAABYtAADJLgAAazAAALUyAAAROAAAKT4AAP9HAAAKSAAAZEwAAHFgAABPYQAAlGEAABtpAADwcQAAbIkAAILKAAA=",
          "dtype": "i4"
         },
         "xaxis": "x",
         "y": {
          "bdata": "MzMzMzOzQECamZmZmRk9QM3MzMzMTDRAmpmZmZmZPUBmZmZmZuY5QM3MzMzMzDhAzczMzMzMOEBmZmZmZuY3QGZmZmZm5jdAAAAAAACAO0AAAAAAAIA5QAAAAAAAAD1AmpmZmZkZP0CamZmZmZk3QDMzMzMzMzhAMzMzMzOzNkAzMzMzM7M4QDMzMzMzMzlAzczMzMzMOUAAAAAAAIAzQGZmZmZm5jhAMzMzMzOzOUBmZmZmZuY2QAAAAAAAgDhAzczMzMzMN0BmZmZmZuY3QDMzMzMzMzlAZmZmZmZmOkCamZmZmRk8QJqZmZmZGTpAMzMzMzMzN0AzMzMzMzM5QM3MzMzMzDVAZmZmZmbmNkBmZmZmZuY3QM3MzMzMTDlAMzMzMzMzN0DNzMzMzEw3QM3MzMzMzDhAmpmZmZmZNEBmZmZmZmY1QJqZmZmZmTdAZmZmZmbmMUAzMzMzM7M5QGZmZmZm5jdAZmZmZmZmOECamZmZmZk1QAAAAAAAgDZAAAAAAAAAN0CamZmZmZk3QGZmZmZm5jRAzczMzMxMNkBmZmZmZuY0QM3MzMzMzDFAmpmZmZmZNkDNzMzMzEw1QJqZmZmZmTZAmpmZmZkZNUCamZmZmZkwQA==",
          "dtype": "f8"
         },
         "yaxis": "y"
        }
       ],
       "layout": {
        "legend": {
         "tracegroupgap": 0
        },
        "template": {
         "data": {
          "bar": [
           {
            "error_x": {
             "color": "#2a3f5f"
            },
            "error_y": {
             "color": "#2a3f5f"
            },
            "marker": {
             "line": {
              "color": "#E5ECF6",
              "width": 0.5
             },
             "pattern": {
              "fillmode": "overlay",
              "size": 10,
              "solidity": 0.2
             }
            },
            "type": "bar"
           }
          ],
          "barpolar": [
           {
            "marker": {
             "line": {
              "color": "#E5ECF6",
              "width": 0.5
             },
             "pattern": {
              "fillmode": "overlay",
              "size": 10,
              "solidity": 0.2
             }
            },
            "type": "barpolar"
           }
          ],
          "carpet": [
           {
            "aaxis": {
             "endlinecolor": "#2a3f5f",
             "gridcolor": "white",
             "linecolor": "white",
             "minorgridcolor": "white",
             "startlinecolor": "#2a3f5f"
            },
            "baxis": {
             "endlinecolor": "#2a3f5f",
             "gridcolor": "white",
             "linecolor": "white",
             "minorgridcolor": "white",
             "startlinecolor": "#2a3f5f"
            },
            "type": "carpet"
           }
          ],
          "choropleth": [
           {
            "colorbar": {
             "outlinewidth": 0,
             "ticks": ""
            },
            "type": "choropleth"
           }
          ],
          "contour": [
           {
            "colorbar": {
             "outlinewidth": 0,
             "ticks": ""
            },
            "colorscale": [
             [
              0,
              "#0d0887"
             ],
             [
              0.1111111111111111,
              "#46039f"
             ],
             [
              0.2222222222222222,
              "#7201a8"
             ],
             [
              0.3333333333333333,
              "#9c179e"
             ],
             [
              0.4444444444444444,
              "#bd3786"
             ],
             [
              0.5555555555555556,
              "#d8576b"
             ],
             [
              0.6666666666666666,
              "#ed7953"
             ],
             [
              0.7777777777777778,
              "#fb9f3a"
             ],
             [
              0.8888888888888888,
              "#fdca26"
             ],
             [
              1,
              "#f0f921"
             ]
            ],
            "type": "contour"
           }
          ],
          "contourcarpet": [
           {
            "colorbar": {
             "outlinewidth": 0,
             "ticks": ""
            },
            "type": "contourcarpet"
           }
          ],
          "heatmap": [
           {
            "colorbar": {
             "outlinewidth": 0,
             "ticks": ""
            },
            "colorscale": [
             [
              0,
              "#0d0887"
             ],
             [
              0.1111111111111111,
              "#46039f"
             ],
             [
              0.2222222222222222,
              "#7201a8"
             ],
             [
              0.3333333333333333,
              "#9c179e"
             ],
             [
              0.4444444444444444,
              "#bd3786"
             ],
             [
              0.5555555555555556,
              "#d8576b"
             ],
             [
              0.6666666666666666,
              "#ed7953"
             ],
             [
              0.7777777777777778,
              "#fb9f3a"
             ],
             [
              0.8888888888888888,
              "#fdca26"
             ],
             [
              1,
              "#f0f921"
             ]
            ],
            "type": "heatmap"
           }
          ],
          "histogram": [
           {
            "marker": {
             "pattern": {
              "fillmode": "overlay",
              "size": 10,
              "solidity": 0.2
             }
            },
            "type": "histogram"
           }
          ],
          "histogram2d": [
           {
            "colorbar": {
             "outlinewidth": 0,
             "ticks": ""
            },
            "colorscale": [
             [
              0,
              "#0d0887"
             ],
             [
              0.1111111111111111,
              "#46039f"
             ],
             [
              0.2222222222222222,
              "#7201a8"
             ],
             [
              0.3333333333333333,
              "#9c179e"
             ],
             [
              0.4444444444444444,
              "#bd3786"
             ],
             [
              0.5555555555555556,
              "#d8576b"
             ],
             [
              0.6666666666666666,
              "#ed7953"
             ],
             [
              0.7777777777777778,
              "#fb9f3a"
             ],
             [
              0.8888888888888888,
              "#fdca26"
             ],
             [
              1,
              "#f0f921"
             ]
            ],
            "type": "histogram2d"
           }
          ],
          "histogram2dcontour": [
           {
            "colorbar": {
             "outlinewidth": 0,
             "ticks": ""
            },
            "colorscale": [
             [
              0,
              "#0d0887"
             ],
             [
              0.1111111111111111,
              "#46039f"
             ],
             [
              0.2222222222222222,
              "#7201a8"
             ],
             [
              0.3333333333333333,
              "#9c179e"
             ],
             [
              0.4444444444444444,
              "#bd3786"
             ],
             [
              0.5555555555555556,
              "#d8576b"
             ],
             [
              0.6666666666666666,
              "#ed7953"
             ],
             [
              0.7777777777777778,
              "#fb9f3a"
             ],
             [
              0.8888888888888888,
              "#fdca26"
             ],
             [
              1,
              "#f0f921"
             ]
            ],
            "type": "histogram2dcontour"
           }
          ],
          "mesh3d": [
           {
            "colorbar": {
             "outlinewidth": 0,
             "ticks": ""
            },
            "type": "mesh3d"
           }
          ],
          "parcoords": [
           {
            "line": {
             "colorbar": {
              "outlinewidth": 0,
              "ticks": ""
             }
            },
            "type": "parcoords"
           }
          ],
          "pie": [
           {
            "automargin": true,
            "type": "pie"
           }
          ],
          "scatter": [
           {
            "fillpattern": {
             "fillmode": "overlay",
             "size": 10,
             "solidity": 0.2
            },
            "type": "scatter"
           }
          ],
          "scatter3d": [
           {
            "line": {
             "colorbar": {
              "outlinewidth": 0,
              "ticks": ""
             }
            },
            "marker": {
             "colorbar": {
              "outlinewidth": 0,
              "ticks": ""
             }
            },
            "type": "scatter3d"
           }
          ],
          "scattercarpet": [
           {
            "marker": {
             "colorbar": {
              "outlinewidth": 0,
              "ticks": ""
             }
            },
            "type": "scattercarpet"
           }
          ],
          "scattergeo": [
           {
            "marker": {
             "colorbar": {
              "outlinewidth": 0,
              "ticks": ""
             }
            },
            "type": "scattergeo"
           }
          ],
          "scattergl": [
           {
            "marker": {
             "colorbar": {
              "outlinewidth": 0,
              "ticks": ""
             }
            },
            "type": "scattergl"
           }
          ],
          "scattermap": [
           {
            "marker": {
             "colorbar": {
              "outlinewidth": 0,
              "ticks": ""
             }
            },
            "type": "scattermap"
           }
          ],
          "scattermapbox": [
           {
            "marker": {
             "colorbar": {
              "outlinewidth": 0,
              "ticks": ""
             }
            },
            "type": "scattermapbox"
           }
          ],
          "scatterpolar": [
           {
            "marker": {
             "colorbar": {
              "outlinewidth": 0,
              "ticks": ""
             }
            },
            "type": "scatterpolar"
           }
          ],
          "scatterpolargl": [
           {
            "marker": {
             "colorbar": {
              "outlinewidth": 0,
              "ticks": ""
             }
            },
            "type": "scatterpolargl"
           }
          ],
          "scatterternary": [
           {
            "marker": {
             "colorbar": {
              "outlinewidth": 0,
              "ticks": ""
             }
            },
            "type": "scatterternary"
           }
          ],
          "surface": [
           {
            "colorbar": {
             "outlinewidth": 0,
             "ticks": ""
            },
            "colorscale": [
             [
              0,
              "#0d0887"
             ],
             [
              0.1111111111111111,
              "#46039f"
             ],
             [
              0.2222222222222222,
              "#7201a8"
             ],
             [
              0.3333333333333333,
              "#9c179e"
             ],
             [
              0.4444444444444444,
              "#bd3786"
             ],
             [
              0.5555555555555556,
              "#d8576b"
             ],
             [
              0.6666666666666666,
              "#ed7953"
             ],
             [
              0.7777777777777778,
              "#fb9f3a"
             ],
             [
              0.8888888888888888,
              "#fdca26"
             ],
             [
              1,
              "#f0f921"
             ]
            ],
            "type": "surface"
           }
          ],
          "table": [
           {
            "cells": {
             "fill": {
              "color": "#EBF0F8"
             },
             "line": {
              "color": "white"
             }
            },
            "header": {
             "fill": {
              "color": "#C8D4E3"
             },
             "line": {
              "color": "white"
             }
            },
            "type": "table"
           }
          ]
         },
         "layout": {
          "annotationdefaults": {
           "arrowcolor": "#2a3f5f",
           "arrowhead": 0,
           "arrowwidth": 1
          },
          "autotypenumbers": "strict",
          "coloraxis": {
           "colorbar": {
            "outlinewidth": 0,
            "ticks": ""
           }
          },
          "colorscale": {
           "diverging": [
            [
             0,
             "#8e0152"
            ],
            [
             0.1,
             "#c51b7d"
            ],
            [
             0.2,
             "#de77ae"
            ],
            [
             0.3,
             "#f1b6da"
            ],
            [
             0.4,
             "#fde0ef"
            ],
            [
             0.5,
             "#f7f7f7"
            ],
            [
             0.6,
             "#e6f5d0"
            ],
            [
             0.7,
             "#b8e186"
            ],
            [
             0.8,
             "#7fbc41"
            ],
            [
             0.9,
             "#4d9221"
            ],
            [
             1,
             "#276419"
            ]
           ],
           "sequential": [
            [
             0,
             "#0d0887"
            ],
            [
             0.1111111111111111,
             "#46039f"
            ],
            [
             0.2222222222222222,
             "#7201a8"
            ],
            [
             0.3333333333333333,
             "#9c179e"
            ],
            [
             0.4444444444444444,
             "#bd3786"
            ],
            [
             0.5555555555555556,
             "#d8576b"
            ],
            [
             0.6666666666666666,
             "#ed7953"
            ],
            [
             0.7777777777777778,
             "#fb9f3a"
            ],
            [
             0.8888888888888888,
             "#fdca26"
            ],
            [
             1,
             "#f0f921"
            ]
           ],
           "sequentialminus": [
            [
             0,
             "#0d0887"
            ],
            [
             0.1111111111111111,
             "#46039f"
            ],
            [
             0.2222222222222222,
             "#7201a8"
            ],
            [
             0.3333333333333333,
             "#9c179e"
            ],
            [
             0.4444444444444444,
             "#bd3786"
            ],
            [
             0.5555555555555556,
             "#d8576b"
            ],
            [
             0.6666666666666666,
             "#ed7953"
            ],
            [
             0.7777777777777778,
             "#fb9f3a"
            ],
            [
             0.8888888888888888,
             "#fdca26"
            ],
            [
             1,
             "#f0f921"
            ]
           ]
          },
          "colorway": [
           "#636efa",
           "#EF553B",
           "#00cc96",
           "#ab63fa",
           "#FFA15A",
           "#19d3f3",
           "#FF6692",
           "#B6E880",
           "#FF97FF",
           "#FECB52"
          ],
          "font": {
           "color": "#2a3f5f"
          },
          "geo": {
           "bgcolor": "white",
           "lakecolor": "white",
           "landcolor": "#E5ECF6",
           "showlakes": true,
           "showland": true,
           "subunitcolor": "white"
          },
          "hoverlabel": {
           "align": "left"
          },
          "hovermode": "closest",
          "mapbox": {
           "style": "light"
          },
          "paper_bgcolor": "white",
          "plot_bgcolor": "#E5ECF6",
          "polar": {
           "angularaxis": {
            "gridcolor": "white",
            "linecolor": "white",
            "ticks": ""
           },
           "bgcolor": "#E5ECF6",
           "radialaxis": {
            "gridcolor": "white",
            "linecolor": "white",
            "ticks": ""
           }
          },
          "scene": {
           "xaxis": {
            "backgroundcolor": "#E5ECF6",
            "gridcolor": "white",
            "gridwidth": 2,
            "linecolor": "white",
            "showbackground": true,
            "ticks": "",
            "zerolinecolor": "white"
           },
           "yaxis": {
            "backgroundcolor": "#E5ECF6",
            "gridcolor": "white",
            "gridwidth": 2,
            "linecolor": "white",
            "showbackground": true,
            "ticks": "",
            "zerolinecolor": "white"
           },
           "zaxis": {
            "backgroundcolor": "#E5ECF6",
            "gridcolor": "white",
            "gridwidth": 2,
            "linecolor": "white",
            "showbackground": true,
            "ticks": "",
            "zerolinecolor": "white"
           }
          },
          "shapedefaults": {
           "line": {
            "color": "#2a3f5f"
           }
          },
          "ternary": {
           "aaxis": {
            "gridcolor": "white",
            "linecolor": "white",
            "ticks": ""
           },
           "baxis": {
            "gridcolor": "white",
            "linecolor": "white",
            "ticks": ""
           },
           "bgcolor": "#E5ECF6",
           "caxis": {
            "gridcolor": "white",
            "linecolor": "white",
            "ticks": ""
           }
          },
          "title": {
           "x": 0.05
          },
          "xaxis": {
           "automargin": true,
           "gridcolor": "white",
           "linecolor": "white",
           "ticks": "",
           "title": {
            "standoff": 15
           },
           "zerolinecolor": "white",
           "zerolinewidth": 2
          },
          "yaxis": {
           "automargin": true,
           "gridcolor": "white",
           "linecolor": "white",
           "ticks": "",
           "title": {
            "standoff": 15
           },
           "zerolinecolor": "white",
           "zerolinewidth": 2
          }
         }
        },
        "title": {
         "text": "NO2 by Tree Count- Winter 2015"
        },
        "xaxis": {
         "anchor": "y",
         "domain": [
          0,
          1
         ],
         "title": {
          "text": "Tree Count (by Community District)"
         }
        },
        "yaxis": {
         "anchor": "x",
         "domain": [
          0,
          1
         ],
         "title": {
          "text": "NO2(ppb)"
         }
        }
       }
      }
     },
     "metadata": {},
     "output_type": "display_data"
    }
   ],
   "source": [
    "#plotly winter line graph\n",
    "winter = px.line(viz_winter, x= \"count\", y= \"NO2_value\", title= \"NO2 by Tree Count- Winter 2015\", color_discrete_sequence=[\"#8B4513\"])\n",
    "winter.update_layout(xaxis_title= \"Tree Count (by Community District)\", yaxis_title= \"NO2(ppb)\")\n",
    "winter.show()"
   ]
  },
  {
   "cell_type": "markdown",
   "id": "0c2210ca",
   "metadata": {},
   "source": [
    "Combining these for one graph to show both summer and winter Nitrogen Dioxide levels:"
   ]
  },
  {
   "cell_type": "code",
   "execution_count": 15,
   "id": "83eceffc",
   "metadata": {},
   "outputs": [
    {
     "data": {
      "application/vnd.plotly.v1+json": {
       "config": {
        "plotlyServerURL": "https://plot.ly"
       },
       "data": [
        {
         "hovertemplate": "Season=Summer<br>count=%{x}<br>NO2_value=%{y}<extra></extra>",
         "legendgroup": "Summer",
         "line": {
          "color": "#6B8E23",
          "dash": "solid"
         },
         "marker": {
          "symbol": "circle"
         },
         "mode": "lines",
         "name": "Summer",
         "orientation": "v",
         "showlegend": true,
         "type": "scatter",
         "x": {
          "bdata": "4AcAAPkIAACNDgAAQxEAAHERAACkEQAAqBEAAAUSAABeEgAAZRIAAJMSAADhEgAAABMAAB4TAACyEwAA5RMAAAoUAACZFQAAABYAAJ0WAACsFwAA5BgAAFkaAAChGgAAbB4AAH8fAABsIAAAjCAAAOwgAAAaIQAAKiMAAM0jAAAUJQAAfSUAABUmAAC7JgAAhycAAIgnAABLKAAAGikAACIqAAB+KgAAeiwAABYtAADJLgAAazAAALUyAAAROAAAKT4AAP9HAAAKSAAAZEwAAHFgAABPYQAAlGEAABtpAADwcQAAbIkAAILKAAA=",
          "dtype": "i4"
         },
         "xaxis": "x",
         "y": {
          "bdata": "MzMzMzOzPUAAAAAAAAA3QAAAAAAAACRAZmZmZmZmN0CamZmZmZkyQGZmZmZmZjFAzczMzMzMMkAzMzMzMzMxQGZmZmZmZjBAMzMzMzMzNEBmZmZmZuYyQGZmZmZmZjZAmpmZmZmZOUBmZmZmZmYxQAAAAAAAAC5AzczMzMxMMUDNzMzMzMwvQJqZmZmZmTBAmpmZmZkZM0CamZmZmZksQGZmZmZmZjJAmpmZmZkZMUBmZmZmZuYwQAAAAAAAAC9AMzMzMzMzLkAzMzMzMzMtQGZmZmZmZjBAzczMzMzMM0AzMzMzM7M1QAAAAAAAADJAMzMzMzMzK0CamZmZmZkwQGZmZmZmZi9AmpmZmZmZL0BmZmZmZmYuQGZmZmZm5jBAZmZmZmZmLEAAAAAAAAAsQDMzMzMzMzBAmpmZmZmZLkAzMzMzMzMtQM3MzMzMzCxAmpmZmZmZG0AAAAAAAAAxQJqZmZmZmS1AzczMzMzML0DNzMzMzMwmQJqZmZmZmSlAzczMzMzMKkDNzMzMzMwsQJqZmZmZmSVAAAAAAAAAK0AAAAAAAAApQJqZmZmZmSFAzczMzMzMKkAAAAAAAAAqQM3MzMzMzCxAMzMzMzMzKEBmZmZmZmYaQA==",
          "dtype": "f8"
         },
         "yaxis": "y"
        },
        {
         "hovertemplate": "Season=Winter<br>count=%{x}<br>NO2_value=%{y}<extra></extra>",
         "legendgroup": "Winter",
         "line": {
          "color": "#8B4513",
          "dash": "solid"
         },
         "marker": {
          "symbol": "circle"
         },
         "mode": "lines",
         "name": "Winter",
         "orientation": "v",
         "showlegend": true,
         "type": "scatter",
         "x": {
          "bdata": "4AcAAPkIAACNDgAAQxEAAHERAACkEQAAqBEAAAUSAABeEgAAZRIAAJMSAADhEgAAABMAAB4TAACyEwAA5RMAAAoUAACZFQAAABYAAJ0WAACsFwAA5BgAAFkaAAChGgAAbB4AAH8fAABsIAAAjCAAAOwgAAAaIQAAKiMAAM0jAAAUJQAAfSUAABUmAAC7JgAAhycAAIgnAABLKAAAGikAACIqAAB+KgAAeiwAABYtAADJLgAAazAAALUyAAAROAAAKT4AAP9HAAAKSAAAZEwAAHFgAABPYQAAlGEAABtpAADwcQAAbIkAAILKAAA=",
          "dtype": "i4"
         },
         "xaxis": "x",
         "y": {
          "bdata": "MzMzMzOzQECamZmZmRk9QM3MzMzMTDRAmpmZmZmZPUBmZmZmZuY5QM3MzMzMzDhAzczMzMzMOEBmZmZmZuY3QGZmZmZm5jdAAAAAAACAO0AAAAAAAIA5QAAAAAAAAD1AmpmZmZkZP0CamZmZmZk3QDMzMzMzMzhAMzMzMzOzNkAzMzMzM7M4QDMzMzMzMzlAzczMzMzMOUAAAAAAAIAzQGZmZmZm5jhAMzMzMzOzOUBmZmZmZuY2QAAAAAAAgDhAzczMzMzMN0BmZmZmZuY3QDMzMzMzMzlAZmZmZmZmOkCamZmZmRk8QJqZmZmZGTpAMzMzMzMzN0AzMzMzMzM5QM3MzMzMzDVAZmZmZmbmNkBmZmZmZuY3QM3MzMzMTDlAMzMzMzMzN0DNzMzMzEw3QM3MzMzMzDhAmpmZmZmZNEBmZmZmZmY1QJqZmZmZmTdAZmZmZmbmMUAzMzMzM7M5QGZmZmZm5jdAZmZmZmZmOECamZmZmZk1QAAAAAAAgDZAAAAAAAAAN0CamZmZmZk3QGZmZmZm5jRAzczMzMxMNkBmZmZmZuY0QM3MzMzMzDFAmpmZmZmZNkDNzMzMzEw1QJqZmZmZmTZAmpmZmZkZNUCamZmZmZkwQA==",
          "dtype": "f8"
         },
         "yaxis": "y"
        }
       ],
       "layout": {
        "legend": {
         "title": {
          "text": "Season"
         },
         "tracegroupgap": 0
        },
        "template": {
         "data": {
          "bar": [
           {
            "error_x": {
             "color": "#2a3f5f"
            },
            "error_y": {
             "color": "#2a3f5f"
            },
            "marker": {
             "line": {
              "color": "#E5ECF6",
              "width": 0.5
             },
             "pattern": {
              "fillmode": "overlay",
              "size": 10,
              "solidity": 0.2
             }
            },
            "type": "bar"
           }
          ],
          "barpolar": [
           {
            "marker": {
             "line": {
              "color": "#E5ECF6",
              "width": 0.5
             },
             "pattern": {
              "fillmode": "overlay",
              "size": 10,
              "solidity": 0.2
             }
            },
            "type": "barpolar"
           }
          ],
          "carpet": [
           {
            "aaxis": {
             "endlinecolor": "#2a3f5f",
             "gridcolor": "white",
             "linecolor": "white",
             "minorgridcolor": "white",
             "startlinecolor": "#2a3f5f"
            },
            "baxis": {
             "endlinecolor": "#2a3f5f",
             "gridcolor": "white",
             "linecolor": "white",
             "minorgridcolor": "white",
             "startlinecolor": "#2a3f5f"
            },
            "type": "carpet"
           }
          ],
          "choropleth": [
           {
            "colorbar": {
             "outlinewidth": 0,
             "ticks": ""
            },
            "type": "choropleth"
           }
          ],
          "contour": [
           {
            "colorbar": {
             "outlinewidth": 0,
             "ticks": ""
            },
            "colorscale": [
             [
              0,
              "#0d0887"
             ],
             [
              0.1111111111111111,
              "#46039f"
             ],
             [
              0.2222222222222222,
              "#7201a8"
             ],
             [
              0.3333333333333333,
              "#9c179e"
             ],
             [
              0.4444444444444444,
              "#bd3786"
             ],
             [
              0.5555555555555556,
              "#d8576b"
             ],
             [
              0.6666666666666666,
              "#ed7953"
             ],
             [
              0.7777777777777778,
              "#fb9f3a"
             ],
             [
              0.8888888888888888,
              "#fdca26"
             ],
             [
              1,
              "#f0f921"
             ]
            ],
            "type": "contour"
           }
          ],
          "contourcarpet": [
           {
            "colorbar": {
             "outlinewidth": 0,
             "ticks": ""
            },
            "type": "contourcarpet"
           }
          ],
          "heatmap": [
           {
            "colorbar": {
             "outlinewidth": 0,
             "ticks": ""
            },
            "colorscale": [
             [
              0,
              "#0d0887"
             ],
             [
              0.1111111111111111,
              "#46039f"
             ],
             [
              0.2222222222222222,
              "#7201a8"
             ],
             [
              0.3333333333333333,
              "#9c179e"
             ],
             [
              0.4444444444444444,
              "#bd3786"
             ],
             [
              0.5555555555555556,
              "#d8576b"
             ],
             [
              0.6666666666666666,
              "#ed7953"
             ],
             [
              0.7777777777777778,
              "#fb9f3a"
             ],
             [
              0.8888888888888888,
              "#fdca26"
             ],
             [
              1,
              "#f0f921"
             ]
            ],
            "type": "heatmap"
           }
          ],
          "histogram": [
           {
            "marker": {
             "pattern": {
              "fillmode": "overlay",
              "size": 10,
              "solidity": 0.2
             }
            },
            "type": "histogram"
           }
          ],
          "histogram2d": [
           {
            "colorbar": {
             "outlinewidth": 0,
             "ticks": ""
            },
            "colorscale": [
             [
              0,
              "#0d0887"
             ],
             [
              0.1111111111111111,
              "#46039f"
             ],
             [
              0.2222222222222222,
              "#7201a8"
             ],
             [
              0.3333333333333333,
              "#9c179e"
             ],
             [
              0.4444444444444444,
              "#bd3786"
             ],
             [
              0.5555555555555556,
              "#d8576b"
             ],
             [
              0.6666666666666666,
              "#ed7953"
             ],
             [
              0.7777777777777778,
              "#fb9f3a"
             ],
             [
              0.8888888888888888,
              "#fdca26"
             ],
             [
              1,
              "#f0f921"
             ]
            ],
            "type": "histogram2d"
           }
          ],
          "histogram2dcontour": [
           {
            "colorbar": {
             "outlinewidth": 0,
             "ticks": ""
            },
            "colorscale": [
             [
              0,
              "#0d0887"
             ],
             [
              0.1111111111111111,
              "#46039f"
             ],
             [
              0.2222222222222222,
              "#7201a8"
             ],
             [
              0.3333333333333333,
              "#9c179e"
             ],
             [
              0.4444444444444444,
              "#bd3786"
             ],
             [
              0.5555555555555556,
              "#d8576b"
             ],
             [
              0.6666666666666666,
              "#ed7953"
             ],
             [
              0.7777777777777778,
              "#fb9f3a"
             ],
             [
              0.8888888888888888,
              "#fdca26"
             ],
             [
              1,
              "#f0f921"
             ]
            ],
            "type": "histogram2dcontour"
           }
          ],
          "mesh3d": [
           {
            "colorbar": {
             "outlinewidth": 0,
             "ticks": ""
            },
            "type": "mesh3d"
           }
          ],
          "parcoords": [
           {
            "line": {
             "colorbar": {
              "outlinewidth": 0,
              "ticks": ""
             }
            },
            "type": "parcoords"
           }
          ],
          "pie": [
           {
            "automargin": true,
            "type": "pie"
           }
          ],
          "scatter": [
           {
            "fillpattern": {
             "fillmode": "overlay",
             "size": 10,
             "solidity": 0.2
            },
            "type": "scatter"
           }
          ],
          "scatter3d": [
           {
            "line": {
             "colorbar": {
              "outlinewidth": 0,
              "ticks": ""
             }
            },
            "marker": {
             "colorbar": {
              "outlinewidth": 0,
              "ticks": ""
             }
            },
            "type": "scatter3d"
           }
          ],
          "scattercarpet": [
           {
            "marker": {
             "colorbar": {
              "outlinewidth": 0,
              "ticks": ""
             }
            },
            "type": "scattercarpet"
           }
          ],
          "scattergeo": [
           {
            "marker": {
             "colorbar": {
              "outlinewidth": 0,
              "ticks": ""
             }
            },
            "type": "scattergeo"
           }
          ],
          "scattergl": [
           {
            "marker": {
             "colorbar": {
              "outlinewidth": 0,
              "ticks": ""
             }
            },
            "type": "scattergl"
           }
          ],
          "scattermap": [
           {
            "marker": {
             "colorbar": {
              "outlinewidth": 0,
              "ticks": ""
             }
            },
            "type": "scattermap"
           }
          ],
          "scattermapbox": [
           {
            "marker": {
             "colorbar": {
              "outlinewidth": 0,
              "ticks": ""
             }
            },
            "type": "scattermapbox"
           }
          ],
          "scatterpolar": [
           {
            "marker": {
             "colorbar": {
              "outlinewidth": 0,
              "ticks": ""
             }
            },
            "type": "scatterpolar"
           }
          ],
          "scatterpolargl": [
           {
            "marker": {
             "colorbar": {
              "outlinewidth": 0,
              "ticks": ""
             }
            },
            "type": "scatterpolargl"
           }
          ],
          "scatterternary": [
           {
            "marker": {
             "colorbar": {
              "outlinewidth": 0,
              "ticks": ""
             }
            },
            "type": "scatterternary"
           }
          ],
          "surface": [
           {
            "colorbar": {
             "outlinewidth": 0,
             "ticks": ""
            },
            "colorscale": [
             [
              0,
              "#0d0887"
             ],
             [
              0.1111111111111111,
              "#46039f"
             ],
             [
              0.2222222222222222,
              "#7201a8"
             ],
             [
              0.3333333333333333,
              "#9c179e"
             ],
             [
              0.4444444444444444,
              "#bd3786"
             ],
             [
              0.5555555555555556,
              "#d8576b"
             ],
             [
              0.6666666666666666,
              "#ed7953"
             ],
             [
              0.7777777777777778,
              "#fb9f3a"
             ],
             [
              0.8888888888888888,
              "#fdca26"
             ],
             [
              1,
              "#f0f921"
             ]
            ],
            "type": "surface"
           }
          ],
          "table": [
           {
            "cells": {
             "fill": {
              "color": "#EBF0F8"
             },
             "line": {
              "color": "white"
             }
            },
            "header": {
             "fill": {
              "color": "#C8D4E3"
             },
             "line": {
              "color": "white"
             }
            },
            "type": "table"
           }
          ]
         },
         "layout": {
          "annotationdefaults": {
           "arrowcolor": "#2a3f5f",
           "arrowhead": 0,
           "arrowwidth": 1
          },
          "autotypenumbers": "strict",
          "coloraxis": {
           "colorbar": {
            "outlinewidth": 0,
            "ticks": ""
           }
          },
          "colorscale": {
           "diverging": [
            [
             0,
             "#8e0152"
            ],
            [
             0.1,
             "#c51b7d"
            ],
            [
             0.2,
             "#de77ae"
            ],
            [
             0.3,
             "#f1b6da"
            ],
            [
             0.4,
             "#fde0ef"
            ],
            [
             0.5,
             "#f7f7f7"
            ],
            [
             0.6,
             "#e6f5d0"
            ],
            [
             0.7,
             "#b8e186"
            ],
            [
             0.8,
             "#7fbc41"
            ],
            [
             0.9,
             "#4d9221"
            ],
            [
             1,
             "#276419"
            ]
           ],
           "sequential": [
            [
             0,
             "#0d0887"
            ],
            [
             0.1111111111111111,
             "#46039f"
            ],
            [
             0.2222222222222222,
             "#7201a8"
            ],
            [
             0.3333333333333333,
             "#9c179e"
            ],
            [
             0.4444444444444444,
             "#bd3786"
            ],
            [
             0.5555555555555556,
             "#d8576b"
            ],
            [
             0.6666666666666666,
             "#ed7953"
            ],
            [
             0.7777777777777778,
             "#fb9f3a"
            ],
            [
             0.8888888888888888,
             "#fdca26"
            ],
            [
             1,
             "#f0f921"
            ]
           ],
           "sequentialminus": [
            [
             0,
             "#0d0887"
            ],
            [
             0.1111111111111111,
             "#46039f"
            ],
            [
             0.2222222222222222,
             "#7201a8"
            ],
            [
             0.3333333333333333,
             "#9c179e"
            ],
            [
             0.4444444444444444,
             "#bd3786"
            ],
            [
             0.5555555555555556,
             "#d8576b"
            ],
            [
             0.6666666666666666,
             "#ed7953"
            ],
            [
             0.7777777777777778,
             "#fb9f3a"
            ],
            [
             0.8888888888888888,
             "#fdca26"
            ],
            [
             1,
             "#f0f921"
            ]
           ]
          },
          "colorway": [
           "#636efa",
           "#EF553B",
           "#00cc96",
           "#ab63fa",
           "#FFA15A",
           "#19d3f3",
           "#FF6692",
           "#B6E880",
           "#FF97FF",
           "#FECB52"
          ],
          "font": {
           "color": "#2a3f5f"
          },
          "geo": {
           "bgcolor": "white",
           "lakecolor": "white",
           "landcolor": "#E5ECF6",
           "showlakes": true,
           "showland": true,
           "subunitcolor": "white"
          },
          "hoverlabel": {
           "align": "left"
          },
          "hovermode": "closest",
          "mapbox": {
           "style": "light"
          },
          "paper_bgcolor": "white",
          "plot_bgcolor": "#E5ECF6",
          "polar": {
           "angularaxis": {
            "gridcolor": "white",
            "linecolor": "white",
            "ticks": ""
           },
           "bgcolor": "#E5ECF6",
           "radialaxis": {
            "gridcolor": "white",
            "linecolor": "white",
            "ticks": ""
           }
          },
          "scene": {
           "xaxis": {
            "backgroundcolor": "#E5ECF6",
            "gridcolor": "white",
            "gridwidth": 2,
            "linecolor": "white",
            "showbackground": true,
            "ticks": "",
            "zerolinecolor": "white"
           },
           "yaxis": {
            "backgroundcolor": "#E5ECF6",
            "gridcolor": "white",
            "gridwidth": 2,
            "linecolor": "white",
            "showbackground": true,
            "ticks": "",
            "zerolinecolor": "white"
           },
           "zaxis": {
            "backgroundcolor": "#E5ECF6",
            "gridcolor": "white",
            "gridwidth": 2,
            "linecolor": "white",
            "showbackground": true,
            "ticks": "",
            "zerolinecolor": "white"
           }
          },
          "shapedefaults": {
           "line": {
            "color": "#2a3f5f"
           }
          },
          "ternary": {
           "aaxis": {
            "gridcolor": "white",
            "linecolor": "white",
            "ticks": ""
           },
           "baxis": {
            "gridcolor": "white",
            "linecolor": "white",
            "ticks": ""
           },
           "bgcolor": "#E5ECF6",
           "caxis": {
            "gridcolor": "white",
            "linecolor": "white",
            "ticks": ""
           }
          },
          "title": {
           "x": 0.05
          },
          "xaxis": {
           "automargin": true,
           "gridcolor": "white",
           "linecolor": "white",
           "ticks": "",
           "title": {
            "standoff": 15
           },
           "zerolinecolor": "white",
           "zerolinewidth": 2
          },
          "yaxis": {
           "automargin": true,
           "gridcolor": "white",
           "linecolor": "white",
           "ticks": "",
           "title": {
            "standoff": 15
           },
           "zerolinecolor": "white",
           "zerolinewidth": 2
          }
         }
        },
        "title": {
         "text": "Nitrogen Dioxide Levels by Tree Count- Summer vs. Winter"
        },
        "xaxis": {
         "anchor": "y",
         "domain": [
          0,
          1
         ],
         "title": {
          "text": "Tree Count (by Community District)"
         }
        },
        "yaxis": {
         "anchor": "x",
         "domain": [
          0,
          1
         ],
         "title": {
          "text": "NO2(ppb)"
         }
        }
       }
      }
     },
     "metadata": {},
     "output_type": "display_data"
    }
   ],
   "source": [
    "#plotly line graph with summer and winter values\n",
    "viz_summer[\"Season\"] = \"Summer\"\n",
    "viz_winter[\"Season\"] = \"Winter\"\n",
    "\n",
    "combined = pd.concat([viz_summer, viz_winter])\n",
    "summer_winter = px.line(combined, x= \"count\", y= \"NO2_value\", color= \"Season\", title= \"Nitrogen Dioxide Levels by Tree Count- Summer vs. Winter\",\n",
    "                        color_discrete_map={\"Summer\": \"#6B8E23\", \"Winter\": \"#8B4513\"})\n",
    "summer_winter.update_layout(xaxis_title= \"Tree Count (by Community District)\", yaxis_title= \"NO2(ppb)\")\n",
    "summer_winter.show()"
   ]
  },
  {
   "cell_type": "markdown",
   "id": "a0d3798c",
   "metadata": {},
   "source": [
    "Looking at the total square feet of tree trunks in each Community District to see if that affects NO2 levels differently:"
   ]
  },
  {
   "cell_type": "code",
   "execution_count": 16,
   "id": "a09db0d0",
   "metadata": {},
   "outputs": [
    {
     "data": {
      "text/html": [
       "<div>\n",
       "<style scoped>\n",
       "    .dataframe tbody tr th:only-of-type {\n",
       "        vertical-align: middle;\n",
       "    }\n",
       "\n",
       "    .dataframe tbody tr th {\n",
       "        vertical-align: top;\n",
       "    }\n",
       "\n",
       "    .dataframe thead th {\n",
       "        text-align: right;\n",
       "    }\n",
       "</style>\n",
       "<table border=\"1\" class=\"dataframe\">\n",
       "  <thead>\n",
       "    <tr style=\"text-align: right;\">\n",
       "      <th></th>\n",
       "      <th>tree_area_sqft</th>\n",
       "      <th>NO2_value</th>\n",
       "      <th>count</th>\n",
       "    </tr>\n",
       "  </thead>\n",
       "  <tbody>\n",
       "    <tr>\n",
       "      <th>0</th>\n",
       "      <td>140.193454</td>\n",
       "      <td>29.7</td>\n",
       "      <td>2016</td>\n",
       "    </tr>\n",
       "    <tr>\n",
       "      <th>1</th>\n",
       "      <td>177.799944</td>\n",
       "      <td>23.0</td>\n",
       "      <td>2297</td>\n",
       "    </tr>\n",
       "    <tr>\n",
       "      <th>2</th>\n",
       "      <td>354.950364</td>\n",
       "      <td>18.8</td>\n",
       "      <td>4520</td>\n",
       "    </tr>\n",
       "    <tr>\n",
       "      <th>3</th>\n",
       "      <td>376.525910</td>\n",
       "      <td>16.4</td>\n",
       "      <td>4702</td>\n",
       "    </tr>\n",
       "    <tr>\n",
       "      <th>4</th>\n",
       "      <td>382.786150</td>\n",
       "      <td>23.4</td>\n",
       "      <td>4419</td>\n",
       "    </tr>\n",
       "  </tbody>\n",
       "</table>\n",
       "</div>"
      ],
      "text/plain": [
       "   tree_area_sqft  NO2_value  count\n",
       "0      140.193454       29.7   2016\n",
       "1      177.799944       23.0   2297\n",
       "2      354.950364       18.8   4520\n",
       "3      376.525910       16.4   4702\n",
       "4      382.786150       23.4   4419"
      ]
     },
     "execution_count": 16,
     "metadata": {},
     "output_type": "execute_result"
    }
   ],
   "source": [
    "tree_area_total = pd.read_sql_query((\"\"\"\n",
    "                           SELECT (tree.tree_count * ((tree.dbh_mean * 2 * 3.14159) / 576)) AS tree_area_sqft, air.Data_Value AS NO2_value, \n",
    "                           tree.tree_count AS count\n",
    "                           FROM air\n",
    "                           LEFT JOIN tree\n",
    "                           ON air.Geo_Join_ID = tree.cb_num \n",
    "                           WHERE air.Time_Period = 'Summer 2015' AND\n",
    "                           air.Name = 'Nitrogen dioxide (NO2)'\n",
    "                           ORDER BY tree_area_sqft ASC;\n",
    "                           \"\"\"), conn)\n",
    "tree_area_total.head()"
   ]
  },
  {
   "cell_type": "markdown",
   "id": "68d0a131",
   "metadata": {},
   "source": [
    "It appears the total square feet of tree trunks trends in a similar way as total tree count, but not as drastically.  This may suggest that the type/amount of tree foliage may not evenly correlate to the size of tree trunk."
   ]
  },
  {
   "cell_type": "code",
   "execution_count": 17,
   "id": "5a7cb28c",
   "metadata": {},
   "outputs": [
    {
     "data": {
      "image/png": "[encoded data removed]",
      "text/plain": [
       "<Figure size 640x480 with 1 Axes>"
      ]
     },
     "metadata": {},
     "output_type": "display_data"
    }
   ],
   "source": [
    "plt.scatter(tree_area_total[\"tree_area_sqft\"], tree_area_total[\"NO2_value\"], color= \"#B8860B\", s=10, label=\"Total sqft of Tree Trunks\")\n",
    "plt.scatter(tree_area_total[\"count\"], tree_area_total[\"NO2_value\"], color= \"#6B8E23\", s=10, label= \"Total Number of Trees\")\n",
    "plt.legend()\n",
    "plt.title(\"NO2 Values by Tree Count and Trunk Area\")\n",
    "plt.ylabel(\"NO2(ppb)\")\n",
    "plt.show()"
   ]
  },
  {
   "cell_type": "markdown",
   "id": "7d3b403c",
   "metadata": {},
   "source": [
    "Zooming out, and looking at the tree distribution between the larger 5 Boroughs of NYC:"
   ]
  },
  {
   "cell_type": "code",
   "execution_count": 18,
   "id": "0d01eebd",
   "metadata": {},
   "outputs": [
    {
     "data": {
      "application/vnd.plotly.v1+json": {
       "config": {
        "plotlyServerURL": "https://plot.ly"
       },
       "data": [
        {
         "hovertemplate": "boroname=%{x}<br>total_trees=%{y}<extra></extra>",
         "legendgroup": "",
         "marker": {
          "color": "#6B8E23",
          "pattern": {
           "shape": ""
          }
         },
         "name": "",
         "orientation": "v",
         "showlegend": false,
         "textposition": "auto",
         "type": "bar",
         "x": [
          "Queens",
          "Brooklyn",
          "Staten Island",
          "Bronx",
          "Manhattan"
         ],
         "xaxis": "x",
         "y": {
          "bdata": "kqEDABCXAgBCjAEAyDoBADfwAAA=",
          "dtype": "i4"
         },
         "yaxis": "y"
        }
       ],
       "layout": {
        "barmode": "relative",
        "legend": {
         "tracegroupgap": 0
        },
        "template": {
         "data": {
          "bar": [
           {
            "error_x": {
             "color": "#2a3f5f"
            },
            "error_y": {
             "color": "#2a3f5f"
            },
            "marker": {
             "line": {
              "color": "#E5ECF6",
              "width": 0.5
             },
             "pattern": {
              "fillmode": "overlay",
              "size": 10,
              "solidity": 0.2
             }
            },
            "type": "bar"
           }
          ],
          "barpolar": [
           {
            "marker": {
             "line": {
              "color": "#E5ECF6",
              "width": 0.5
             },
             "pattern": {
              "fillmode": "overlay",
              "size": 10,
              "solidity": 0.2
             }
            },
            "type": "barpolar"
           }
          ],
          "carpet": [
           {
            "aaxis": {
             "endlinecolor": "#2a3f5f",
             "gridcolor": "white",
             "linecolor": "white",
             "minorgridcolor": "white",
             "startlinecolor": "#2a3f5f"
            },
            "baxis": {
             "endlinecolor": "#2a3f5f",
             "gridcolor": "white",
             "linecolor": "white",
             "minorgridcolor": "white",
             "startlinecolor": "#2a3f5f"
            },
            "type": "carpet"
           }
          ],
          "choropleth": [
           {
            "colorbar": {
             "outlinewidth": 0,
             "ticks": ""
            },
            "type": "choropleth"
           }
          ],
          "contour": [
           {
            "colorbar": {
             "outlinewidth": 0,
             "ticks": ""
            },
            "colorscale": [
             [
              0,
              "#0d0887"
             ],
             [
              0.1111111111111111,
              "#46039f"
             ],
             [
              0.2222222222222222,
              "#7201a8"
             ],
             [
              0.3333333333333333,
              "#9c179e"
             ],
             [
              0.4444444444444444,
              "#bd3786"
             ],
             [
              0.5555555555555556,
              "#d8576b"
             ],
             [
              0.6666666666666666,
              "#ed7953"
             ],
             [
              0.7777777777777778,
              "#fb9f3a"
             ],
             [
              0.8888888888888888,
              "#fdca26"
             ],
             [
              1,
              "#f0f921"
             ]
            ],
            "type": "contour"
           }
          ],
          "contourcarpet": [
           {
            "colorbar": {
             "outlinewidth": 0,
             "ticks": ""
            },
            "type": "contourcarpet"
           }
          ],
          "heatmap": [
           {
            "colorbar": {
             "outlinewidth": 0,
             "ticks": ""
            },
            "colorscale": [
             [
              0,
              "#0d0887"
             ],
             [
              0.1111111111111111,
              "#46039f"
             ],
             [
              0.2222222222222222,
              "#7201a8"
             ],
             [
              0.3333333333333333,
              "#9c179e"
             ],
             [
              0.4444444444444444,
              "#bd3786"
             ],
             [
              0.5555555555555556,
              "#d8576b"
             ],
             [
              0.6666666666666666,
              "#ed7953"
             ],
             [
              0.7777777777777778,
              "#fb9f3a"
             ],
             [
              0.8888888888888888,
              "#fdca26"
             ],
             [
              1,
              "#f0f921"
             ]
            ],
            "type": "heatmap"
           }
          ],
          "histogram": [
           {
            "marker": {
             "pattern": {
              "fillmode": "overlay",
              "size": 10,
              "solidity": 0.2
             }
            },
            "type": "histogram"
           }
          ],
          "histogram2d": [
           {
            "colorbar": {
             "outlinewidth": 0,
             "ticks": ""
            },
            "colorscale": [
             [
              0,
              "#0d0887"
             ],
             [
              0.1111111111111111,
              "#46039f"
             ],
             [
              0.2222222222222222,
              "#7201a8"
             ],
             [
              0.3333333333333333,
              "#9c179e"
             ],
             [
              0.4444444444444444,
              "#bd3786"
             ],
             [
              0.5555555555555556,
              "#d8576b"
             ],
             [
              0.6666666666666666,
              "#ed7953"
             ],
             [
              0.7777777777777778,
              "#fb9f3a"
             ],
             [
              0.8888888888888888,
              "#fdca26"
             ],
             [
              1,
              "#f0f921"
             ]
            ],
            "type": "histogram2d"
           }
          ],
          "histogram2dcontour": [
           {
            "colorbar": {
             "outlinewidth": 0,
             "ticks": ""
            },
            "colorscale": [
             [
              0,
              "#0d0887"
             ],
             [
              0.1111111111111111,
              "#46039f"
             ],
             [
              0.2222222222222222,
              "#7201a8"
             ],
             [
              0.3333333333333333,
              "#9c179e"
             ],
             [
              0.4444444444444444,
              "#bd3786"
             ],
             [
              0.5555555555555556,
              "#d8576b"
             ],
             [
              0.6666666666666666,
              "#ed7953"
             ],
             [
              0.7777777777777778,
              "#fb9f3a"
             ],
             [
              0.8888888888888888,
              "#fdca26"
             ],
             [
              1,
              "#f0f921"
             ]
            ],
            "type": "histogram2dcontour"
           }
          ],
          "mesh3d": [
           {
            "colorbar": {
             "outlinewidth": 0,
             "ticks": ""
            },
            "type": "mesh3d"
           }
          ],
          "parcoords": [
           {
            "line": {
             "colorbar": {
              "outlinewidth": 0,
              "ticks": ""
             }
            },
            "type": "parcoords"
           }
          ],
          "pie": [
           {
            "automargin": true,
            "type": "pie"
           }
          ],
          "scatter": [
           {
            "fillpattern": {
             "fillmode": "overlay",
             "size": 10,
             "solidity": 0.2
            },
            "type": "scatter"
           }
          ],
          "scatter3d": [
           {
            "line": {
             "colorbar": {
              "outlinewidth": 0,
              "ticks": ""
             }
            },
            "marker": {
             "colorbar": {
              "outlinewidth": 0,
              "ticks": ""
             }
            },
            "type": "scatter3d"
           }
          ],
          "scattercarpet": [
           {
            "marker": {
             "colorbar": {
              "outlinewidth": 0,
              "ticks": ""
             }
            },
            "type": "scattercarpet"
           }
          ],
          "scattergeo": [
           {
            "marker": {
             "colorbar": {
              "outlinewidth": 0,
              "ticks": ""
             }
            },
            "type": "scattergeo"
           }
          ],
          "scattergl": [
           {
            "marker": {
             "colorbar": {
              "outlinewidth": 0,
              "ticks": ""
             }
            },
            "type": "scattergl"
           }
          ],
          "scattermap": [
           {
            "marker": {
             "colorbar": {
              "outlinewidth": 0,
              "ticks": ""
             }
            },
            "type": "scattermap"
           }
          ],
          "scattermapbox": [
           {
            "marker": {
             "colorbar": {
              "outlinewidth": 0,
              "ticks": ""
             }
            },
            "type": "scattermapbox"
           }
          ],
          "scatterpolar": [
           {
            "marker": {
             "colorbar": {
              "outlinewidth": 0,
              "ticks": ""
             }
            },
            "type": "scatterpolar"
           }
          ],
          "scatterpolargl": [
           {
            "marker": {
             "colorbar": {
              "outlinewidth": 0,
              "ticks": ""
             }
            },
            "type": "scatterpolargl"
           }
          ],
          "scatterternary": [
           {
            "marker": {
             "colorbar": {
              "outlinewidth": 0,
              "ticks": ""
             }
            },
            "type": "scatterternary"
           }
          ],
          "surface": [
           {
            "colorbar": {
             "outlinewidth": 0,
             "ticks": ""
            },
            "colorscale": [
             [
              0,
              "#0d0887"
             ],
             [
              0.1111111111111111,
              "#46039f"
             ],
             [
              0.2222222222222222,
              "#7201a8"
             ],
             [
              0.3333333333333333,
              "#9c179e"
             ],
             [
              0.4444444444444444,
              "#bd3786"
             ],
             [
              0.5555555555555556,
              "#d8576b"
             ],
             [
              0.6666666666666666,
              "#ed7953"
             ],
             [
              0.7777777777777778,
              "#fb9f3a"
             ],
             [
              0.8888888888888888,
              "#fdca26"
             ],
             [
              1,
              "#f0f921"
             ]
            ],
            "type": "surface"
           }
          ],
          "table": [
           {
            "cells": {
             "fill": {
              "color": "#EBF0F8"
             },
             "line": {
              "color": "white"
             }
            },
            "header": {
             "fill": {
              "color": "#C8D4E3"
             },
             "line": {
              "color": "white"
             }
            },
            "type": "table"
           }
          ]
         },
         "layout": {
          "annotationdefaults": {
           "arrowcolor": "#2a3f5f",
           "arrowhead": 0,
           "arrowwidth": 1
          },
          "autotypenumbers": "strict",
          "coloraxis": {
           "colorbar": {
            "outlinewidth": 0,
            "ticks": ""
           }
          },
          "colorscale": {
           "diverging": [
            [
             0,
             "#8e0152"
            ],
            [
             0.1,
             "#c51b7d"
            ],
            [
             0.2,
             "#de77ae"
            ],
            [
             0.3,
             "#f1b6da"
            ],
            [
             0.4,
             "#fde0ef"
            ],
            [
             0.5,
             "#f7f7f7"
            ],
            [
             0.6,
             "#e6f5d0"
            ],
            [
             0.7,
             "#b8e186"
            ],
            [
             0.8,
             "#7fbc41"
            ],
            [
             0.9,
             "#4d9221"
            ],
            [
             1,
             "#276419"
            ]
           ],
           "sequential": [
            [
             0,
             "#0d0887"
            ],
            [
             0.1111111111111111,
             "#46039f"
            ],
            [
             0.2222222222222222,
             "#7201a8"
            ],
            [
             0.3333333333333333,
             "#9c179e"
            ],
            [
             0.4444444444444444,
             "#bd3786"
            ],
            [
             0.5555555555555556,
             "#d8576b"
            ],
            [
             0.6666666666666666,
             "#ed7953"
            ],
            [
             0.7777777777777778,
             "#fb9f3a"
            ],
            [
             0.8888888888888888,
             "#fdca26"
            ],
            [
             1,
             "#f0f921"
            ]
           ],
           "sequentialminus": [
            [
             0,
             "#0d0887"
            ],
            [
             0.1111111111111111,
             "#46039f"
            ],
            [
             0.2222222222222222,
             "#7201a8"
            ],
            [
             0.3333333333333333,
             "#9c179e"
            ],
            [
             0.4444444444444444,
             "#bd3786"
            ],
            [
             0.5555555555555556,
             "#d8576b"
            ],
            [
             0.6666666666666666,
             "#ed7953"
            ],
            [
             0.7777777777777778,
             "#fb9f3a"
            ],
            [
             0.8888888888888888,
             "#fdca26"
            ],
            [
             1,
             "#f0f921"
            ]
           ]
          },
          "colorway": [
           "#636efa",
           "#EF553B",
           "#00cc96",
           "#ab63fa",
           "#FFA15A",
           "#19d3f3",
           "#FF6692",
           "#B6E880",
           "#FF97FF",
           "#FECB52"
          ],
          "font": {
           "color": "#2a3f5f"
          },
          "geo": {
           "bgcolor": "white",
           "lakecolor": "white",
           "landcolor": "#E5ECF6",
           "showlakes": true,
           "showland": true,
           "subunitcolor": "white"
          },
          "hoverlabel": {
           "align": "left"
          },
          "hovermode": "closest",
          "mapbox": {
           "style": "light"
          },
          "paper_bgcolor": "white",
          "plot_bgcolor": "#E5ECF6",
          "polar": {
           "angularaxis": {
            "gridcolor": "white",
            "linecolor": "white",
            "ticks": ""
           },
           "bgcolor": "#E5ECF6",
           "radialaxis": {
            "gridcolor": "white",
            "linecolor": "white",
            "ticks": ""
           }
          },
          "scene": {
           "xaxis": {
            "backgroundcolor": "#E5ECF6",
            "gridcolor": "white",
            "gridwidth": 2,
            "linecolor": "white",
            "showbackground": true,
            "ticks": "",
            "zerolinecolor": "white"
           },
           "yaxis": {
            "backgroundcolor": "#E5ECF6",
            "gridcolor": "white",
            "gridwidth": 2,
            "linecolor": "white",
            "showbackground": true,
            "ticks": "",
            "zerolinecolor": "white"
           },
           "zaxis": {
            "backgroundcolor": "#E5ECF6",
            "gridcolor": "white",
            "gridwidth": 2,
            "linecolor": "white",
            "showbackground": true,
            "ticks": "",
            "zerolinecolor": "white"
           }
          },
          "shapedefaults": {
           "line": {
            "color": "#2a3f5f"
           }
          },
          "ternary": {
           "aaxis": {
            "gridcolor": "white",
            "linecolor": "white",
            "ticks": ""
           },
           "baxis": {
            "gridcolor": "white",
            "linecolor": "white",
            "ticks": ""
           },
           "bgcolor": "#E5ECF6",
           "caxis": {
            "gridcolor": "white",
            "linecolor": "white",
            "ticks": ""
           }
          },
          "title": {
           "x": 0.05
          },
          "xaxis": {
           "automargin": true,
           "gridcolor": "white",
           "linecolor": "white",
           "ticks": "",
           "title": {
            "standoff": 15
           },
           "zerolinecolor": "white",
           "zerolinewidth": 2
          },
          "yaxis": {
           "automargin": true,
           "gridcolor": "white",
           "linecolor": "white",
           "ticks": "",
           "title": {
            "standoff": 15
           },
           "zerolinecolor": "white",
           "zerolinewidth": 2
          }
         }
        },
        "title": {
         "text": "Trees per Borough in NYC"
        },
        "xaxis": {
         "anchor": "y",
         "domain": [
          0,
          1
         ],
         "title": {
          "text": "NYC Borough"
         }
        },
        "yaxis": {
         "anchor": "x",
         "domain": [
          0,
          1
         ],
         "title": {
          "text": "Tree Total"
         }
        }
       }
      }
     },
     "metadata": {},
     "output_type": "display_data"
    }
   ],
   "source": [
    "boro_bar = px.bar(viz_boro, x= \"boroname\", y= \"total_trees\", title= \"Trees per Borough in NYC\", color_discrete_sequence=[\"#6B8E23\"])\n",
    "boro_bar.update_layout(xaxis_title= \"NYC Borough\", yaxis_title= \"Tree Total\")                                                                                                                 \n",
    "boro_bar.show()"
   ]
  },
  {
   "cell_type": "markdown",
   "id": "d0804f1f",
   "metadata": {},
   "source": [
    "And... some people hate pie charts... some people love them.  \n",
    "\n",
    "So, just for fun, here is a pie chart:"
   ]
  },
  {
   "cell_type": "code",
   "execution_count": 19,
   "id": "2c89d575",
   "metadata": {},
   "outputs": [
    {
     "data": {
      "image/png": "[encoded data removed]",
      "text/plain": [
       "<Figure size 640x480 with 1 Axes>"
      ]
     },
     "metadata": {},
     "output_type": "display_data"
    }
   ],
   "source": [
    "colors = [\"#8B4513\", \"#6B8E23\", \"#B88E23\", \"#B7410E\", \"#CC7722\"]\n",
    "plt.pie(viz_boro[\"total_trees\"], labels= viz_boro[\"boroname\"], colors= colors, autopct= \"%1.1f%%\", startangle= 330)\n",
    "plt.title(\"Which Borough Has the Largest Slice of Tree Pie?\")\n",
    "plt.axis(\"equal\")\n",
    "plt.show()"
   ]
  },
  {
   "cell_type": "markdown",
   "id": "5327e445",
   "metadata": {},
   "source": [
    "Next, please proceed to `project_summary.ipynb` for a summary of the project and a link to the Tableau dashboard."
   ]
  }
 ],
 "metadata": {
  "kernelspec": {
   "display_name": "venv",
   "language": "python",
   "name": "python3"
  },
  "language_info": {
   "codemirror_mode": {
    "name": "ipython",
    "version": 3
   },
   "file_extension": ".py",
   "mimetype": "text/x-python",
   "name": "python",
   "nbconvert_exporter": "python",
   "pygments_lexer": "ipython3",
   "version": "3.13.1"
  }
 },
 "nbformat": 4,
 "nbformat_minor": 5
}
